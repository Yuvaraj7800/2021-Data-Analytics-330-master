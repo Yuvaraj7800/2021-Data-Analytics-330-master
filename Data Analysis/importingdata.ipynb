{
 "metadata": {
  "language_info": {
   "codemirror_mode": {
    "name": "ipython",
    "version": 3
   },
   "file_extension": ".py",
   "mimetype": "text/x-python",
   "name": "python",
   "nbconvert_exporter": "python",
   "pygments_lexer": "ipython3",
   "version": "3.7.3"
  },
  "orig_nbformat": 2,
  "kernelspec": {
   "name": "python3",
   "display_name": "Python 3.7.3 64-bit ('base': conda)",
   "metadata": {
    "interpreter": {
     "hash": "2b9cd5c3ec4eb793e30b3fe22fb3034f3d8c9722bad10f4cedbbd7faa7e7f261"
    }
   }
  }
 },
 "nbformat": 4,
 "nbformat_minor": 2,
 "cells": [
  {
   "cell_type": "code",
   "execution_count": 1,
   "metadata": {},
   "outputs": [],
   "source": [
    "import pandas as pd"
   ]
  },
  {
   "cell_type": "code",
   "execution_count": 2,
   "metadata": {},
   "outputs": [
    {
     "output_type": "execute_result",
     "data": {
      "text/plain": [
       "<module 'pandas' from 'C:\\\\Users\\\\triplem\\\\Anaconda3\\\\lib\\\\site-packages\\\\pandas\\\\__init__.py'>"
      ]
     },
     "metadata": {},
     "execution_count": 2
    }
   ],
   "source": [
    "pd"
   ]
  },
  {
   "cell_type": "code",
   "execution_count": 31,
   "metadata": {},
   "outputs": [
    {
     "output_type": "execute_result",
     "data": {
      "text/plain": [
       "           Type    Coverage          OdName  AREA AreaName   REG  \\\n",
       "0    Immigrants  Foreigners     Afghanistan   935     Asia  5501   \n",
       "1    Immigrants  Foreigners         Albania   908   Europe   925   \n",
       "2    Immigrants  Foreigners         Algeria   903   Africa   912   \n",
       "3    Immigrants  Foreigners  American Samoa   909  Oceania   957   \n",
       "4    Immigrants  Foreigners         Andorra   908   Europe   925   \n",
       "..          ...         ...             ...   ...      ...   ...   \n",
       "190  Immigrants  Foreigners        Viet Nam   935     Asia   920   \n",
       "191  Immigrants  Foreigners  Western Sahara   903   Africa   912   \n",
       "192  Immigrants  Foreigners           Yemen   935     Asia   922   \n",
       "193  Immigrants  Foreigners          Zambia   903   Africa   910   \n",
       "194  Immigrants  Foreigners        Zimbabwe   903   Africa   910   \n",
       "\n",
       "                RegName  DEV             DevName  1980  ...  2004  2005  2006  \\\n",
       "0         Southern Asia  902  Developing regions    16  ...  2978  3436  3009   \n",
       "1       Southern Europe  901   Developed regions     1  ...  1450  1223   856   \n",
       "2       Northern Africa  902  Developing regions    80  ...  3616  3626  4807   \n",
       "3             Polynesia  902  Developing regions     0  ...     0     0     1   \n",
       "4       Southern Europe  901   Developed regions     0  ...     0     0     1   \n",
       "..                  ...  ...                 ...   ...  ...   ...   ...   ...   \n",
       "190  South-Eastern Asia  902  Developing regions  1191  ...  1816  1852  3153   \n",
       "191     Northern Africa  902  Developing regions     0  ...     0     0     1   \n",
       "192        Western Asia  902  Developing regions     1  ...   124   161   140   \n",
       "193      Eastern Africa  902  Developing regions    11  ...    56    91    77   \n",
       "194      Eastern Africa  902  Developing regions    72  ...  1450   615   454   \n",
       "\n",
       "     2007  2008  2009  2010  2011  2012  2013  \n",
       "0    2652  2111  1746  1758  2203  2635  2004  \n",
       "1     702   560   716   561   539   620   603  \n",
       "2    3623  4005  5393  4752  4325  3774  4331  \n",
       "3       0     0     0     0     0     0     0  \n",
       "4       1     0     0     0     0     1     1  \n",
       "..    ...   ...   ...   ...   ...   ...   ...  \n",
       "190  2574  1784  2171  1942  1723  1731  2112  \n",
       "191     0     0     0     0     0     0     0  \n",
       "192   122   133   128   211   160   174   217  \n",
       "193    71    64    60   102    69    46    59  \n",
       "194   663   611   508   494   434   437   407  \n",
       "\n",
       "[195 rows x 43 columns]"
      ],
      "text/html": "<div>\n<style scoped>\n    .dataframe tbody tr th:only-of-type {\n        vertical-align: middle;\n    }\n\n    .dataframe tbody tr th {\n        vertical-align: top;\n    }\n\n    .dataframe thead th {\n        text-align: right;\n    }\n</style>\n<table border=\"1\" class=\"dataframe\">\n  <thead>\n    <tr style=\"text-align: right;\">\n      <th></th>\n      <th>Type</th>\n      <th>Coverage</th>\n      <th>OdName</th>\n      <th>AREA</th>\n      <th>AreaName</th>\n      <th>REG</th>\n      <th>RegName</th>\n      <th>DEV</th>\n      <th>DevName</th>\n      <th>1980</th>\n      <th>...</th>\n      <th>2004</th>\n      <th>2005</th>\n      <th>2006</th>\n      <th>2007</th>\n      <th>2008</th>\n      <th>2009</th>\n      <th>2010</th>\n      <th>2011</th>\n      <th>2012</th>\n      <th>2013</th>\n    </tr>\n  </thead>\n  <tbody>\n    <tr>\n      <th>0</th>\n      <td>Immigrants</td>\n      <td>Foreigners</td>\n      <td>Afghanistan</td>\n      <td>935</td>\n      <td>Asia</td>\n      <td>5501</td>\n      <td>Southern Asia</td>\n      <td>902</td>\n      <td>Developing regions</td>\n      <td>16</td>\n      <td>...</td>\n      <td>2978</td>\n      <td>3436</td>\n      <td>3009</td>\n      <td>2652</td>\n      <td>2111</td>\n      <td>1746</td>\n      <td>1758</td>\n      <td>2203</td>\n      <td>2635</td>\n      <td>2004</td>\n    </tr>\n    <tr>\n      <th>1</th>\n      <td>Immigrants</td>\n      <td>Foreigners</td>\n      <td>Albania</td>\n      <td>908</td>\n      <td>Europe</td>\n      <td>925</td>\n      <td>Southern Europe</td>\n      <td>901</td>\n      <td>Developed regions</td>\n      <td>1</td>\n      <td>...</td>\n      <td>1450</td>\n      <td>1223</td>\n      <td>856</td>\n      <td>702</td>\n      <td>560</td>\n      <td>716</td>\n      <td>561</td>\n      <td>539</td>\n      <td>620</td>\n      <td>603</td>\n    </tr>\n    <tr>\n      <th>2</th>\n      <td>Immigrants</td>\n      <td>Foreigners</td>\n      <td>Algeria</td>\n      <td>903</td>\n      <td>Africa</td>\n      <td>912</td>\n      <td>Northern Africa</td>\n      <td>902</td>\n      <td>Developing regions</td>\n      <td>80</td>\n      <td>...</td>\n      <td>3616</td>\n      <td>3626</td>\n      <td>4807</td>\n      <td>3623</td>\n      <td>4005</td>\n      <td>5393</td>\n      <td>4752</td>\n      <td>4325</td>\n      <td>3774</td>\n      <td>4331</td>\n    </tr>\n    <tr>\n      <th>3</th>\n      <td>Immigrants</td>\n      <td>Foreigners</td>\n      <td>American Samoa</td>\n      <td>909</td>\n      <td>Oceania</td>\n      <td>957</td>\n      <td>Polynesia</td>\n      <td>902</td>\n      <td>Developing regions</td>\n      <td>0</td>\n      <td>...</td>\n      <td>0</td>\n      <td>0</td>\n      <td>1</td>\n      <td>0</td>\n      <td>0</td>\n      <td>0</td>\n      <td>0</td>\n      <td>0</td>\n      <td>0</td>\n      <td>0</td>\n    </tr>\n    <tr>\n      <th>4</th>\n      <td>Immigrants</td>\n      <td>Foreigners</td>\n      <td>Andorra</td>\n      <td>908</td>\n      <td>Europe</td>\n      <td>925</td>\n      <td>Southern Europe</td>\n      <td>901</td>\n      <td>Developed regions</td>\n      <td>0</td>\n      <td>...</td>\n      <td>0</td>\n      <td>0</td>\n      <td>1</td>\n      <td>1</td>\n      <td>0</td>\n      <td>0</td>\n      <td>0</td>\n      <td>0</td>\n      <td>1</td>\n      <td>1</td>\n    </tr>\n    <tr>\n      <th>...</th>\n      <td>...</td>\n      <td>...</td>\n      <td>...</td>\n      <td>...</td>\n      <td>...</td>\n      <td>...</td>\n      <td>...</td>\n      <td>...</td>\n      <td>...</td>\n      <td>...</td>\n      <td>...</td>\n      <td>...</td>\n      <td>...</td>\n      <td>...</td>\n      <td>...</td>\n      <td>...</td>\n      <td>...</td>\n      <td>...</td>\n      <td>...</td>\n      <td>...</td>\n      <td>...</td>\n    </tr>\n    <tr>\n      <th>190</th>\n      <td>Immigrants</td>\n      <td>Foreigners</td>\n      <td>Viet Nam</td>\n      <td>935</td>\n      <td>Asia</td>\n      <td>920</td>\n      <td>South-Eastern Asia</td>\n      <td>902</td>\n      <td>Developing regions</td>\n      <td>1191</td>\n      <td>...</td>\n      <td>1816</td>\n      <td>1852</td>\n      <td>3153</td>\n      <td>2574</td>\n      <td>1784</td>\n      <td>2171</td>\n      <td>1942</td>\n      <td>1723</td>\n      <td>1731</td>\n      <td>2112</td>\n    </tr>\n    <tr>\n      <th>191</th>\n      <td>Immigrants</td>\n      <td>Foreigners</td>\n      <td>Western Sahara</td>\n      <td>903</td>\n      <td>Africa</td>\n      <td>912</td>\n      <td>Northern Africa</td>\n      <td>902</td>\n      <td>Developing regions</td>\n      <td>0</td>\n      <td>...</td>\n      <td>0</td>\n      <td>0</td>\n      <td>1</td>\n      <td>0</td>\n      <td>0</td>\n      <td>0</td>\n      <td>0</td>\n      <td>0</td>\n      <td>0</td>\n      <td>0</td>\n    </tr>\n    <tr>\n      <th>192</th>\n      <td>Immigrants</td>\n      <td>Foreigners</td>\n      <td>Yemen</td>\n      <td>935</td>\n      <td>Asia</td>\n      <td>922</td>\n      <td>Western Asia</td>\n      <td>902</td>\n      <td>Developing regions</td>\n      <td>1</td>\n      <td>...</td>\n      <td>124</td>\n      <td>161</td>\n      <td>140</td>\n      <td>122</td>\n      <td>133</td>\n      <td>128</td>\n      <td>211</td>\n      <td>160</td>\n      <td>174</td>\n      <td>217</td>\n    </tr>\n    <tr>\n      <th>193</th>\n      <td>Immigrants</td>\n      <td>Foreigners</td>\n      <td>Zambia</td>\n      <td>903</td>\n      <td>Africa</td>\n      <td>910</td>\n      <td>Eastern Africa</td>\n      <td>902</td>\n      <td>Developing regions</td>\n      <td>11</td>\n      <td>...</td>\n      <td>56</td>\n      <td>91</td>\n      <td>77</td>\n      <td>71</td>\n      <td>64</td>\n      <td>60</td>\n      <td>102</td>\n      <td>69</td>\n      <td>46</td>\n      <td>59</td>\n    </tr>\n    <tr>\n      <th>194</th>\n      <td>Immigrants</td>\n      <td>Foreigners</td>\n      <td>Zimbabwe</td>\n      <td>903</td>\n      <td>Africa</td>\n      <td>910</td>\n      <td>Eastern Africa</td>\n      <td>902</td>\n      <td>Developing regions</td>\n      <td>72</td>\n      <td>...</td>\n      <td>1450</td>\n      <td>615</td>\n      <td>454</td>\n      <td>663</td>\n      <td>611</td>\n      <td>508</td>\n      <td>494</td>\n      <td>434</td>\n      <td>437</td>\n      <td>407</td>\n    </tr>\n  </tbody>\n</table>\n<p>195 rows × 43 columns</p>\n</div>"
     },
     "metadata": {},
     "execution_count": 31
    }
   ],
   "source": [
    "pd.read_excel('https://s3-api.us-geo.objectstorage.softlayer.net/cf-courses-data/CognitiveClass/DV0101EN/labs/Data_Files/Canada.xlsx', sheet_name=\"Canada by Citizenship\", skiprows = range(20), skipfooter=2)"
   ]
  },
  {
   "cell_type": "code",
   "execution_count": 32,
   "metadata": {},
   "outputs": [],
   "source": [
    "df = pd.read_excel('https://s3-api.us-geo.objectstorage.softlayer.net/cf-courses-data/CognitiveClass/DV0101EN/labs/Data_Files/Canada.xlsx', sheet_name=\"Canada by Citizenship\", skiprows = range(20), skipfooter=2)"
   ]
  },
  {
   "cell_type": "code",
   "execution_count": 34,
   "metadata": {},
   "outputs": [
    {
     "output_type": "execute_result",
     "data": {
      "text/plain": [
       "         Type    Coverage               OdName  AREA  \\\n",
       "0  Immigrants  Foreigners          Afghanistan   935   \n",
       "1  Immigrants  Foreigners              Albania   908   \n",
       "2  Immigrants  Foreigners              Algeria   903   \n",
       "3  Immigrants  Foreigners       American Samoa   909   \n",
       "4  Immigrants  Foreigners              Andorra   908   \n",
       "5  Immigrants  Foreigners               Angola   903   \n",
       "6  Immigrants  Foreigners  Antigua and Barbuda   904   \n",
       "7  Immigrants  Foreigners            Argentina   904   \n",
       "8  Immigrants  Foreigners              Armenia   935   \n",
       "9  Immigrants  Foreigners            Australia   909   \n",
       "\n",
       "                          AreaName   REG                    RegName  DEV  \\\n",
       "0                             Asia  5501              Southern Asia  902   \n",
       "1                           Europe   925            Southern Europe  901   \n",
       "2                           Africa   912            Northern Africa  902   \n",
       "3                          Oceania   957                  Polynesia  902   \n",
       "4                           Europe   925            Southern Europe  901   \n",
       "5                           Africa   911              Middle Africa  902   \n",
       "6  Latin America and the Caribbean   915                  Caribbean  902   \n",
       "7  Latin America and the Caribbean   931              South America  902   \n",
       "8                             Asia   922               Western Asia  902   \n",
       "9                          Oceania   927  Australia and New Zealand  901   \n",
       "\n",
       "              DevName  1980  ...  2004  2005  2006  2007  2008  2009  2010  \\\n",
       "0  Developing regions    16  ...  2978  3436  3009  2652  2111  1746  1758   \n",
       "1   Developed regions     1  ...  1450  1223   856   702   560   716   561   \n",
       "2  Developing regions    80  ...  3616  3626  4807  3623  4005  5393  4752   \n",
       "3  Developing regions     0  ...     0     0     1     0     0     0     0   \n",
       "4   Developed regions     0  ...     0     0     1     1     0     0     0   \n",
       "5  Developing regions     1  ...   268   295   184   106    76    62    61   \n",
       "6  Developing regions     0  ...    14    24    32    15    32    38    27   \n",
       "7  Developing regions   368  ...  1591  1153   847   620   540   467   459   \n",
       "8  Developing regions     0  ...   147   224   218   198   205   267   252   \n",
       "9   Developed regions   702  ...   930   909   875  1033  1018  1018   933   \n",
       "\n",
       "   2011  2012  2013  \n",
       "0  2203  2635  2004  \n",
       "1   539   620   603  \n",
       "2  4325  3774  4331  \n",
       "3     0     0     0  \n",
       "4     0     1     1  \n",
       "5    39    70    45  \n",
       "6    37    51    25  \n",
       "7   278   263   282  \n",
       "8   236   258   207  \n",
       "9   851   982  1121  \n",
       "\n",
       "[10 rows x 43 columns]"
      ],
      "text/html": "<div>\n<style scoped>\n    .dataframe tbody tr th:only-of-type {\n        vertical-align: middle;\n    }\n\n    .dataframe tbody tr th {\n        vertical-align: top;\n    }\n\n    .dataframe thead th {\n        text-align: right;\n    }\n</style>\n<table border=\"1\" class=\"dataframe\">\n  <thead>\n    <tr style=\"text-align: right;\">\n      <th></th>\n      <th>Type</th>\n      <th>Coverage</th>\n      <th>OdName</th>\n      <th>AREA</th>\n      <th>AreaName</th>\n      <th>REG</th>\n      <th>RegName</th>\n      <th>DEV</th>\n      <th>DevName</th>\n      <th>1980</th>\n      <th>...</th>\n      <th>2004</th>\n      <th>2005</th>\n      <th>2006</th>\n      <th>2007</th>\n      <th>2008</th>\n      <th>2009</th>\n      <th>2010</th>\n      <th>2011</th>\n      <th>2012</th>\n      <th>2013</th>\n    </tr>\n  </thead>\n  <tbody>\n    <tr>\n      <th>0</th>\n      <td>Immigrants</td>\n      <td>Foreigners</td>\n      <td>Afghanistan</td>\n      <td>935</td>\n      <td>Asia</td>\n      <td>5501</td>\n      <td>Southern Asia</td>\n      <td>902</td>\n      <td>Developing regions</td>\n      <td>16</td>\n      <td>...</td>\n      <td>2978</td>\n      <td>3436</td>\n      <td>3009</td>\n      <td>2652</td>\n      <td>2111</td>\n      <td>1746</td>\n      <td>1758</td>\n      <td>2203</td>\n      <td>2635</td>\n      <td>2004</td>\n    </tr>\n    <tr>\n      <th>1</th>\n      <td>Immigrants</td>\n      <td>Foreigners</td>\n      <td>Albania</td>\n      <td>908</td>\n      <td>Europe</td>\n      <td>925</td>\n      <td>Southern Europe</td>\n      <td>901</td>\n      <td>Developed regions</td>\n      <td>1</td>\n      <td>...</td>\n      <td>1450</td>\n      <td>1223</td>\n      <td>856</td>\n      <td>702</td>\n      <td>560</td>\n      <td>716</td>\n      <td>561</td>\n      <td>539</td>\n      <td>620</td>\n      <td>603</td>\n    </tr>\n    <tr>\n      <th>2</th>\n      <td>Immigrants</td>\n      <td>Foreigners</td>\n      <td>Algeria</td>\n      <td>903</td>\n      <td>Africa</td>\n      <td>912</td>\n      <td>Northern Africa</td>\n      <td>902</td>\n      <td>Developing regions</td>\n      <td>80</td>\n      <td>...</td>\n      <td>3616</td>\n      <td>3626</td>\n      <td>4807</td>\n      <td>3623</td>\n      <td>4005</td>\n      <td>5393</td>\n      <td>4752</td>\n      <td>4325</td>\n      <td>3774</td>\n      <td>4331</td>\n    </tr>\n    <tr>\n      <th>3</th>\n      <td>Immigrants</td>\n      <td>Foreigners</td>\n      <td>American Samoa</td>\n      <td>909</td>\n      <td>Oceania</td>\n      <td>957</td>\n      <td>Polynesia</td>\n      <td>902</td>\n      <td>Developing regions</td>\n      <td>0</td>\n      <td>...</td>\n      <td>0</td>\n      <td>0</td>\n      <td>1</td>\n      <td>0</td>\n      <td>0</td>\n      <td>0</td>\n      <td>0</td>\n      <td>0</td>\n      <td>0</td>\n      <td>0</td>\n    </tr>\n    <tr>\n      <th>4</th>\n      <td>Immigrants</td>\n      <td>Foreigners</td>\n      <td>Andorra</td>\n      <td>908</td>\n      <td>Europe</td>\n      <td>925</td>\n      <td>Southern Europe</td>\n      <td>901</td>\n      <td>Developed regions</td>\n      <td>0</td>\n      <td>...</td>\n      <td>0</td>\n      <td>0</td>\n      <td>1</td>\n      <td>1</td>\n      <td>0</td>\n      <td>0</td>\n      <td>0</td>\n      <td>0</td>\n      <td>1</td>\n      <td>1</td>\n    </tr>\n    <tr>\n      <th>5</th>\n      <td>Immigrants</td>\n      <td>Foreigners</td>\n      <td>Angola</td>\n      <td>903</td>\n      <td>Africa</td>\n      <td>911</td>\n      <td>Middle Africa</td>\n      <td>902</td>\n      <td>Developing regions</td>\n      <td>1</td>\n      <td>...</td>\n      <td>268</td>\n      <td>295</td>\n      <td>184</td>\n      <td>106</td>\n      <td>76</td>\n      <td>62</td>\n      <td>61</td>\n      <td>39</td>\n      <td>70</td>\n      <td>45</td>\n    </tr>\n    <tr>\n      <th>6</th>\n      <td>Immigrants</td>\n      <td>Foreigners</td>\n      <td>Antigua and Barbuda</td>\n      <td>904</td>\n      <td>Latin America and the Caribbean</td>\n      <td>915</td>\n      <td>Caribbean</td>\n      <td>902</td>\n      <td>Developing regions</td>\n      <td>0</td>\n      <td>...</td>\n      <td>14</td>\n      <td>24</td>\n      <td>32</td>\n      <td>15</td>\n      <td>32</td>\n      <td>38</td>\n      <td>27</td>\n      <td>37</td>\n      <td>51</td>\n      <td>25</td>\n    </tr>\n    <tr>\n      <th>7</th>\n      <td>Immigrants</td>\n      <td>Foreigners</td>\n      <td>Argentina</td>\n      <td>904</td>\n      <td>Latin America and the Caribbean</td>\n      <td>931</td>\n      <td>South America</td>\n      <td>902</td>\n      <td>Developing regions</td>\n      <td>368</td>\n      <td>...</td>\n      <td>1591</td>\n      <td>1153</td>\n      <td>847</td>\n      <td>620</td>\n      <td>540</td>\n      <td>467</td>\n      <td>459</td>\n      <td>278</td>\n      <td>263</td>\n      <td>282</td>\n    </tr>\n    <tr>\n      <th>8</th>\n      <td>Immigrants</td>\n      <td>Foreigners</td>\n      <td>Armenia</td>\n      <td>935</td>\n      <td>Asia</td>\n      <td>922</td>\n      <td>Western Asia</td>\n      <td>902</td>\n      <td>Developing regions</td>\n      <td>0</td>\n      <td>...</td>\n      <td>147</td>\n      <td>224</td>\n      <td>218</td>\n      <td>198</td>\n      <td>205</td>\n      <td>267</td>\n      <td>252</td>\n      <td>236</td>\n      <td>258</td>\n      <td>207</td>\n    </tr>\n    <tr>\n      <th>9</th>\n      <td>Immigrants</td>\n      <td>Foreigners</td>\n      <td>Australia</td>\n      <td>909</td>\n      <td>Oceania</td>\n      <td>927</td>\n      <td>Australia and New Zealand</td>\n      <td>901</td>\n      <td>Developed regions</td>\n      <td>702</td>\n      <td>...</td>\n      <td>930</td>\n      <td>909</td>\n      <td>875</td>\n      <td>1033</td>\n      <td>1018</td>\n      <td>1018</td>\n      <td>933</td>\n      <td>851</td>\n      <td>982</td>\n      <td>1121</td>\n    </tr>\n  </tbody>\n</table>\n<p>10 rows × 43 columns</p>\n</div>"
     },
     "metadata": {},
     "execution_count": 34
    }
   ],
   "source": [
    "df.head(20)"
   ]
  },
  {
   "source": [
    "## Previewing Data"
   ],
   "cell_type": "markdown",
   "metadata": {}
  },
  {
   "cell_type": "code",
   "execution_count": 11,
   "metadata": {},
   "outputs": [
    {
     "output_type": "execute_result",
     "data": {
      "text/plain": [
       "         Type    Coverage               OdName  AREA  \\\n",
       "0  Immigrants  Foreigners          Afghanistan   935   \n",
       "1  Immigrants  Foreigners              Albania   908   \n",
       "2  Immigrants  Foreigners              Algeria   903   \n",
       "3  Immigrants  Foreigners       American Samoa   909   \n",
       "4  Immigrants  Foreigners              Andorra   908   \n",
       "5  Immigrants  Foreigners               Angola   903   \n",
       "6  Immigrants  Foreigners  Antigua and Barbuda   904   \n",
       "7  Immigrants  Foreigners            Argentina   904   \n",
       "8  Immigrants  Foreigners              Armenia   935   \n",
       "9  Immigrants  Foreigners            Australia   909   \n",
       "\n",
       "                          AreaName   REG                    RegName  DEV  \\\n",
       "0                             Asia  5501              Southern Asia  902   \n",
       "1                           Europe   925            Southern Europe  901   \n",
       "2                           Africa   912            Northern Africa  902   \n",
       "3                          Oceania   957                  Polynesia  902   \n",
       "4                           Europe   925            Southern Europe  901   \n",
       "5                           Africa   911              Middle Africa  902   \n",
       "6  Latin America and the Caribbean   915                  Caribbean  902   \n",
       "7  Latin America and the Caribbean   931              South America  902   \n",
       "8                             Asia   922               Western Asia  902   \n",
       "9                          Oceania   927  Australia and New Zealand  901   \n",
       "\n",
       "              DevName  1980  ...  2004  2005  2006  2007  2008  2009  2010  \\\n",
       "0  Developing regions    16  ...  2978  3436  3009  2652  2111  1746  1758   \n",
       "1   Developed regions     1  ...  1450  1223   856   702   560   716   561   \n",
       "2  Developing regions    80  ...  3616  3626  4807  3623  4005  5393  4752   \n",
       "3  Developing regions     0  ...     0     0     1     0     0     0     0   \n",
       "4   Developed regions     0  ...     0     0     1     1     0     0     0   \n",
       "5  Developing regions     1  ...   268   295   184   106    76    62    61   \n",
       "6  Developing regions     0  ...    14    24    32    15    32    38    27   \n",
       "7  Developing regions   368  ...  1591  1153   847   620   540   467   459   \n",
       "8  Developing regions     0  ...   147   224   218   198   205   267   252   \n",
       "9   Developed regions   702  ...   930   909   875  1033  1018  1018   933   \n",
       "\n",
       "   2011  2012  2013  \n",
       "0  2203  2635  2004  \n",
       "1   539   620   603  \n",
       "2  4325  3774  4331  \n",
       "3     0     0     0  \n",
       "4     0     1     1  \n",
       "5    39    70    45  \n",
       "6    37    51    25  \n",
       "7   278   263   282  \n",
       "8   236   258   207  \n",
       "9   851   982  1121  \n",
       "\n",
       "[10 rows x 43 columns]"
      ],
      "text/html": "<div>\n<style scoped>\n    .dataframe tbody tr th:only-of-type {\n        vertical-align: middle;\n    }\n\n    .dataframe tbody tr th {\n        vertical-align: top;\n    }\n\n    .dataframe thead th {\n        text-align: right;\n    }\n</style>\n<table border=\"1\" class=\"dataframe\">\n  <thead>\n    <tr style=\"text-align: right;\">\n      <th></th>\n      <th>Type</th>\n      <th>Coverage</th>\n      <th>OdName</th>\n      <th>AREA</th>\n      <th>AreaName</th>\n      <th>REG</th>\n      <th>RegName</th>\n      <th>DEV</th>\n      <th>DevName</th>\n      <th>1980</th>\n      <th>...</th>\n      <th>2004</th>\n      <th>2005</th>\n      <th>2006</th>\n      <th>2007</th>\n      <th>2008</th>\n      <th>2009</th>\n      <th>2010</th>\n      <th>2011</th>\n      <th>2012</th>\n      <th>2013</th>\n    </tr>\n  </thead>\n  <tbody>\n    <tr>\n      <th>0</th>\n      <td>Immigrants</td>\n      <td>Foreigners</td>\n      <td>Afghanistan</td>\n      <td>935</td>\n      <td>Asia</td>\n      <td>5501</td>\n      <td>Southern Asia</td>\n      <td>902</td>\n      <td>Developing regions</td>\n      <td>16</td>\n      <td>...</td>\n      <td>2978</td>\n      <td>3436</td>\n      <td>3009</td>\n      <td>2652</td>\n      <td>2111</td>\n      <td>1746</td>\n      <td>1758</td>\n      <td>2203</td>\n      <td>2635</td>\n      <td>2004</td>\n    </tr>\n    <tr>\n      <th>1</th>\n      <td>Immigrants</td>\n      <td>Foreigners</td>\n      <td>Albania</td>\n      <td>908</td>\n      <td>Europe</td>\n      <td>925</td>\n      <td>Southern Europe</td>\n      <td>901</td>\n      <td>Developed regions</td>\n      <td>1</td>\n      <td>...</td>\n      <td>1450</td>\n      <td>1223</td>\n      <td>856</td>\n      <td>702</td>\n      <td>560</td>\n      <td>716</td>\n      <td>561</td>\n      <td>539</td>\n      <td>620</td>\n      <td>603</td>\n    </tr>\n    <tr>\n      <th>2</th>\n      <td>Immigrants</td>\n      <td>Foreigners</td>\n      <td>Algeria</td>\n      <td>903</td>\n      <td>Africa</td>\n      <td>912</td>\n      <td>Northern Africa</td>\n      <td>902</td>\n      <td>Developing regions</td>\n      <td>80</td>\n      <td>...</td>\n      <td>3616</td>\n      <td>3626</td>\n      <td>4807</td>\n      <td>3623</td>\n      <td>4005</td>\n      <td>5393</td>\n      <td>4752</td>\n      <td>4325</td>\n      <td>3774</td>\n      <td>4331</td>\n    </tr>\n    <tr>\n      <th>3</th>\n      <td>Immigrants</td>\n      <td>Foreigners</td>\n      <td>American Samoa</td>\n      <td>909</td>\n      <td>Oceania</td>\n      <td>957</td>\n      <td>Polynesia</td>\n      <td>902</td>\n      <td>Developing regions</td>\n      <td>0</td>\n      <td>...</td>\n      <td>0</td>\n      <td>0</td>\n      <td>1</td>\n      <td>0</td>\n      <td>0</td>\n      <td>0</td>\n      <td>0</td>\n      <td>0</td>\n      <td>0</td>\n      <td>0</td>\n    </tr>\n    <tr>\n      <th>4</th>\n      <td>Immigrants</td>\n      <td>Foreigners</td>\n      <td>Andorra</td>\n      <td>908</td>\n      <td>Europe</td>\n      <td>925</td>\n      <td>Southern Europe</td>\n      <td>901</td>\n      <td>Developed regions</td>\n      <td>0</td>\n      <td>...</td>\n      <td>0</td>\n      <td>0</td>\n      <td>1</td>\n      <td>1</td>\n      <td>0</td>\n      <td>0</td>\n      <td>0</td>\n      <td>0</td>\n      <td>1</td>\n      <td>1</td>\n    </tr>\n    <tr>\n      <th>5</th>\n      <td>Immigrants</td>\n      <td>Foreigners</td>\n      <td>Angola</td>\n      <td>903</td>\n      <td>Africa</td>\n      <td>911</td>\n      <td>Middle Africa</td>\n      <td>902</td>\n      <td>Developing regions</td>\n      <td>1</td>\n      <td>...</td>\n      <td>268</td>\n      <td>295</td>\n      <td>184</td>\n      <td>106</td>\n      <td>76</td>\n      <td>62</td>\n      <td>61</td>\n      <td>39</td>\n      <td>70</td>\n      <td>45</td>\n    </tr>\n    <tr>\n      <th>6</th>\n      <td>Immigrants</td>\n      <td>Foreigners</td>\n      <td>Antigua and Barbuda</td>\n      <td>904</td>\n      <td>Latin America and the Caribbean</td>\n      <td>915</td>\n      <td>Caribbean</td>\n      <td>902</td>\n      <td>Developing regions</td>\n      <td>0</td>\n      <td>...</td>\n      <td>14</td>\n      <td>24</td>\n      <td>32</td>\n      <td>15</td>\n      <td>32</td>\n      <td>38</td>\n      <td>27</td>\n      <td>37</td>\n      <td>51</td>\n      <td>25</td>\n    </tr>\n    <tr>\n      <th>7</th>\n      <td>Immigrants</td>\n      <td>Foreigners</td>\n      <td>Argentina</td>\n      <td>904</td>\n      <td>Latin America and the Caribbean</td>\n      <td>931</td>\n      <td>South America</td>\n      <td>902</td>\n      <td>Developing regions</td>\n      <td>368</td>\n      <td>...</td>\n      <td>1591</td>\n      <td>1153</td>\n      <td>847</td>\n      <td>620</td>\n      <td>540</td>\n      <td>467</td>\n      <td>459</td>\n      <td>278</td>\n      <td>263</td>\n      <td>282</td>\n    </tr>\n    <tr>\n      <th>8</th>\n      <td>Immigrants</td>\n      <td>Foreigners</td>\n      <td>Armenia</td>\n      <td>935</td>\n      <td>Asia</td>\n      <td>922</td>\n      <td>Western Asia</td>\n      <td>902</td>\n      <td>Developing regions</td>\n      <td>0</td>\n      <td>...</td>\n      <td>147</td>\n      <td>224</td>\n      <td>218</td>\n      <td>198</td>\n      <td>205</td>\n      <td>267</td>\n      <td>252</td>\n      <td>236</td>\n      <td>258</td>\n      <td>207</td>\n    </tr>\n    <tr>\n      <th>9</th>\n      <td>Immigrants</td>\n      <td>Foreigners</td>\n      <td>Australia</td>\n      <td>909</td>\n      <td>Oceania</td>\n      <td>927</td>\n      <td>Australia and New Zealand</td>\n      <td>901</td>\n      <td>Developed regions</td>\n      <td>702</td>\n      <td>...</td>\n      <td>930</td>\n      <td>909</td>\n      <td>875</td>\n      <td>1033</td>\n      <td>1018</td>\n      <td>1018</td>\n      <td>933</td>\n      <td>851</td>\n      <td>982</td>\n      <td>1121</td>\n    </tr>\n  </tbody>\n</table>\n<p>10 rows × 43 columns</p>\n</div>"
     },
     "metadata": {},
     "execution_count": 11
    }
   ],
   "source": [
    "df.head(10)"
   ]
  },
  {
   "cell_type": "code",
   "execution_count": 8,
   "metadata": {},
   "outputs": [
    {
     "output_type": "execute_result",
     "data": {
      "text/plain": [
       "           Type    Coverage          OdName  AREA AreaName  REG  \\\n",
       "190  Immigrants  Foreigners        Viet Nam   935     Asia  920   \n",
       "191  Immigrants  Foreigners  Western Sahara   903   Africa  912   \n",
       "192  Immigrants  Foreigners           Yemen   935     Asia  922   \n",
       "193  Immigrants  Foreigners          Zambia   903   Africa  910   \n",
       "194  Immigrants  Foreigners        Zimbabwe   903   Africa  910   \n",
       "\n",
       "                RegName  DEV             DevName  1980  ...  2004  2005  2006  \\\n",
       "190  South-Eastern Asia  902  Developing regions  1191  ...  1816  1852  3153   \n",
       "191     Northern Africa  902  Developing regions     0  ...     0     0     1   \n",
       "192        Western Asia  902  Developing regions     1  ...   124   161   140   \n",
       "193      Eastern Africa  902  Developing regions    11  ...    56    91    77   \n",
       "194      Eastern Africa  902  Developing regions    72  ...  1450   615   454   \n",
       "\n",
       "     2007  2008  2009  2010  2011  2012  2013  \n",
       "190  2574  1784  2171  1942  1723  1731  2112  \n",
       "191     0     0     0     0     0     0     0  \n",
       "192   122   133   128   211   160   174   217  \n",
       "193    71    64    60   102    69    46    59  \n",
       "194   663   611   508   494   434   437   407  \n",
       "\n",
       "[5 rows x 43 columns]"
      ],
      "text/html": "<div>\n<style scoped>\n    .dataframe tbody tr th:only-of-type {\n        vertical-align: middle;\n    }\n\n    .dataframe tbody tr th {\n        vertical-align: top;\n    }\n\n    .dataframe thead th {\n        text-align: right;\n    }\n</style>\n<table border=\"1\" class=\"dataframe\">\n  <thead>\n    <tr style=\"text-align: right;\">\n      <th></th>\n      <th>Type</th>\n      <th>Coverage</th>\n      <th>OdName</th>\n      <th>AREA</th>\n      <th>AreaName</th>\n      <th>REG</th>\n      <th>RegName</th>\n      <th>DEV</th>\n      <th>DevName</th>\n      <th>1980</th>\n      <th>...</th>\n      <th>2004</th>\n      <th>2005</th>\n      <th>2006</th>\n      <th>2007</th>\n      <th>2008</th>\n      <th>2009</th>\n      <th>2010</th>\n      <th>2011</th>\n      <th>2012</th>\n      <th>2013</th>\n    </tr>\n  </thead>\n  <tbody>\n    <tr>\n      <th>190</th>\n      <td>Immigrants</td>\n      <td>Foreigners</td>\n      <td>Viet Nam</td>\n      <td>935</td>\n      <td>Asia</td>\n      <td>920</td>\n      <td>South-Eastern Asia</td>\n      <td>902</td>\n      <td>Developing regions</td>\n      <td>1191</td>\n      <td>...</td>\n      <td>1816</td>\n      <td>1852</td>\n      <td>3153</td>\n      <td>2574</td>\n      <td>1784</td>\n      <td>2171</td>\n      <td>1942</td>\n      <td>1723</td>\n      <td>1731</td>\n      <td>2112</td>\n    </tr>\n    <tr>\n      <th>191</th>\n      <td>Immigrants</td>\n      <td>Foreigners</td>\n      <td>Western Sahara</td>\n      <td>903</td>\n      <td>Africa</td>\n      <td>912</td>\n      <td>Northern Africa</td>\n      <td>902</td>\n      <td>Developing regions</td>\n      <td>0</td>\n      <td>...</td>\n      <td>0</td>\n      <td>0</td>\n      <td>1</td>\n      <td>0</td>\n      <td>0</td>\n      <td>0</td>\n      <td>0</td>\n      <td>0</td>\n      <td>0</td>\n      <td>0</td>\n    </tr>\n    <tr>\n      <th>192</th>\n      <td>Immigrants</td>\n      <td>Foreigners</td>\n      <td>Yemen</td>\n      <td>935</td>\n      <td>Asia</td>\n      <td>922</td>\n      <td>Western Asia</td>\n      <td>902</td>\n      <td>Developing regions</td>\n      <td>1</td>\n      <td>...</td>\n      <td>124</td>\n      <td>161</td>\n      <td>140</td>\n      <td>122</td>\n      <td>133</td>\n      <td>128</td>\n      <td>211</td>\n      <td>160</td>\n      <td>174</td>\n      <td>217</td>\n    </tr>\n    <tr>\n      <th>193</th>\n      <td>Immigrants</td>\n      <td>Foreigners</td>\n      <td>Zambia</td>\n      <td>903</td>\n      <td>Africa</td>\n      <td>910</td>\n      <td>Eastern Africa</td>\n      <td>902</td>\n      <td>Developing regions</td>\n      <td>11</td>\n      <td>...</td>\n      <td>56</td>\n      <td>91</td>\n      <td>77</td>\n      <td>71</td>\n      <td>64</td>\n      <td>60</td>\n      <td>102</td>\n      <td>69</td>\n      <td>46</td>\n      <td>59</td>\n    </tr>\n    <tr>\n      <th>194</th>\n      <td>Immigrants</td>\n      <td>Foreigners</td>\n      <td>Zimbabwe</td>\n      <td>903</td>\n      <td>Africa</td>\n      <td>910</td>\n      <td>Eastern Africa</td>\n      <td>902</td>\n      <td>Developing regions</td>\n      <td>72</td>\n      <td>...</td>\n      <td>1450</td>\n      <td>615</td>\n      <td>454</td>\n      <td>663</td>\n      <td>611</td>\n      <td>508</td>\n      <td>494</td>\n      <td>434</td>\n      <td>437</td>\n      <td>407</td>\n    </tr>\n  </tbody>\n</table>\n<p>5 rows × 43 columns</p>\n</div>"
     },
     "metadata": {},
     "execution_count": 8
    }
   ],
   "source": [
    "df.tail()"
   ]
  },
  {
   "cell_type": "code",
   "execution_count": 12,
   "metadata": {},
   "outputs": [
    {
     "output_type": "execute_result",
     "data": {
      "text/plain": [
       "             AREA          REG         DEV          1980          1981  \\\n",
       "count  195.000000   195.000000  195.000000    195.000000    195.000000   \n",
       "mean   912.764103  1249.015385  901.753846    508.394872    566.989744   \n",
       "std     13.082835  1185.526885    0.431878   1949.588546   2152.643752   \n",
       "min    903.000000   905.000000  901.000000      0.000000      0.000000   \n",
       "25%    903.000000   914.000000  902.000000      0.000000      0.000000   \n",
       "50%    908.000000   922.000000  902.000000     13.000000     10.000000   \n",
       "75%    922.000000   925.500000  902.000000    251.500000    295.500000   \n",
       "max    935.000000  5501.000000  902.000000  22045.000000  24796.000000   \n",
       "\n",
       "               1982          1983          1984         1985         1986  \\\n",
       "count    195.000000    195.000000    195.000000   195.000000   195.000000   \n",
       "mean     534.723077    387.435897    376.497436   358.861538   441.271795   \n",
       "std     1866.997511   1204.333597   1198.246371  1079.309600  1225.576630   \n",
       "min        0.000000      0.000000      0.000000     0.000000     0.000000   \n",
       "25%        0.000000      0.000000      0.000000     0.000000     0.500000   \n",
       "50%       11.000000     12.000000     13.000000    17.000000    18.000000   \n",
       "75%      275.000000    173.000000    181.000000   197.000000   254.000000   \n",
       "max    20620.000000  10015.000000  10170.000000  9564.000000  9470.000000   \n",
       "\n",
       "       ...          2004          2005          2006          2007  \\\n",
       "count  ...    195.000000    195.000000    195.000000    195.000000   \n",
       "mean   ...   1190.169231   1320.292308   1266.958974   1191.820513   \n",
       "std    ...   3710.505369   4425.957828   3926.717747   3443.542409   \n",
       "min    ...      0.000000      0.000000      0.000000      0.000000   \n",
       "25%    ...     19.000000     28.500000     25.000000     31.000000   \n",
       "50%    ...    191.000000    210.000000    218.000000    198.000000   \n",
       "75%    ...    756.500000    832.000000    842.000000    899.000000   \n",
       "max    ...  36619.000000  42584.000000  33848.000000  28742.000000   \n",
       "\n",
       "               2008          2009          2010          2011          2012  \\\n",
       "count    195.000000    195.000000    195.000000    195.000000    195.000000   \n",
       "mean    1246.394872   1275.733333   1420.287179   1262.533333   1313.958974   \n",
       "std     3694.573544   3829.630424   4462.946328   4030.084313   4247.555161   \n",
       "min        0.000000      0.000000      0.000000      0.000000      0.000000   \n",
       "25%       31.000000     36.000000     40.500000     37.500000     42.500000   \n",
       "50%      205.000000    214.000000    211.000000    179.000000    233.000000   \n",
       "75%      934.500000    888.000000    932.000000    772.000000    783.000000   \n",
       "max    30037.000000  29622.000000  38617.000000  36765.000000  34315.000000   \n",
       "\n",
       "               2013  \n",
       "count    195.000000  \n",
       "mean    1320.702564  \n",
       "std     4237.951988  \n",
       "min        0.000000  \n",
       "25%       45.000000  \n",
       "50%      213.000000  \n",
       "75%      796.000000  \n",
       "max    34129.000000  \n",
       "\n",
       "[8 rows x 37 columns]"
      ],
      "text/html": "<div>\n<style scoped>\n    .dataframe tbody tr th:only-of-type {\n        vertical-align: middle;\n    }\n\n    .dataframe tbody tr th {\n        vertical-align: top;\n    }\n\n    .dataframe thead th {\n        text-align: right;\n    }\n</style>\n<table border=\"1\" class=\"dataframe\">\n  <thead>\n    <tr style=\"text-align: right;\">\n      <th></th>\n      <th>AREA</th>\n      <th>REG</th>\n      <th>DEV</th>\n      <th>1980</th>\n      <th>1981</th>\n      <th>1982</th>\n      <th>1983</th>\n      <th>1984</th>\n      <th>1985</th>\n      <th>1986</th>\n      <th>...</th>\n      <th>2004</th>\n      <th>2005</th>\n      <th>2006</th>\n      <th>2007</th>\n      <th>2008</th>\n      <th>2009</th>\n      <th>2010</th>\n      <th>2011</th>\n      <th>2012</th>\n      <th>2013</th>\n    </tr>\n  </thead>\n  <tbody>\n    <tr>\n      <th>count</th>\n      <td>195.000000</td>\n      <td>195.000000</td>\n      <td>195.000000</td>\n      <td>195.000000</td>\n      <td>195.000000</td>\n      <td>195.000000</td>\n      <td>195.000000</td>\n      <td>195.000000</td>\n      <td>195.000000</td>\n      <td>195.000000</td>\n      <td>...</td>\n      <td>195.000000</td>\n      <td>195.000000</td>\n      <td>195.000000</td>\n      <td>195.000000</td>\n      <td>195.000000</td>\n      <td>195.000000</td>\n      <td>195.000000</td>\n      <td>195.000000</td>\n      <td>195.000000</td>\n      <td>195.000000</td>\n    </tr>\n    <tr>\n      <th>mean</th>\n      <td>912.764103</td>\n      <td>1249.015385</td>\n      <td>901.753846</td>\n      <td>508.394872</td>\n      <td>566.989744</td>\n      <td>534.723077</td>\n      <td>387.435897</td>\n      <td>376.497436</td>\n      <td>358.861538</td>\n      <td>441.271795</td>\n      <td>...</td>\n      <td>1190.169231</td>\n      <td>1320.292308</td>\n      <td>1266.958974</td>\n      <td>1191.820513</td>\n      <td>1246.394872</td>\n      <td>1275.733333</td>\n      <td>1420.287179</td>\n      <td>1262.533333</td>\n      <td>1313.958974</td>\n      <td>1320.702564</td>\n    </tr>\n    <tr>\n      <th>std</th>\n      <td>13.082835</td>\n      <td>1185.526885</td>\n      <td>0.431878</td>\n      <td>1949.588546</td>\n      <td>2152.643752</td>\n      <td>1866.997511</td>\n      <td>1204.333597</td>\n      <td>1198.246371</td>\n      <td>1079.309600</td>\n      <td>1225.576630</td>\n      <td>...</td>\n      <td>3710.505369</td>\n      <td>4425.957828</td>\n      <td>3926.717747</td>\n      <td>3443.542409</td>\n      <td>3694.573544</td>\n      <td>3829.630424</td>\n      <td>4462.946328</td>\n      <td>4030.084313</td>\n      <td>4247.555161</td>\n      <td>4237.951988</td>\n    </tr>\n    <tr>\n      <th>min</th>\n      <td>903.000000</td>\n      <td>905.000000</td>\n      <td>901.000000</td>\n      <td>0.000000</td>\n      <td>0.000000</td>\n      <td>0.000000</td>\n      <td>0.000000</td>\n      <td>0.000000</td>\n      <td>0.000000</td>\n      <td>0.000000</td>\n      <td>...</td>\n      <td>0.000000</td>\n      <td>0.000000</td>\n      <td>0.000000</td>\n      <td>0.000000</td>\n      <td>0.000000</td>\n      <td>0.000000</td>\n      <td>0.000000</td>\n      <td>0.000000</td>\n      <td>0.000000</td>\n      <td>0.000000</td>\n    </tr>\n    <tr>\n      <th>25%</th>\n      <td>903.000000</td>\n      <td>914.000000</td>\n      <td>902.000000</td>\n      <td>0.000000</td>\n      <td>0.000000</td>\n      <td>0.000000</td>\n      <td>0.000000</td>\n      <td>0.000000</td>\n      <td>0.000000</td>\n      <td>0.500000</td>\n      <td>...</td>\n      <td>19.000000</td>\n      <td>28.500000</td>\n      <td>25.000000</td>\n      <td>31.000000</td>\n      <td>31.000000</td>\n      <td>36.000000</td>\n      <td>40.500000</td>\n      <td>37.500000</td>\n      <td>42.500000</td>\n      <td>45.000000</td>\n    </tr>\n    <tr>\n      <th>50%</th>\n      <td>908.000000</td>\n      <td>922.000000</td>\n      <td>902.000000</td>\n      <td>13.000000</td>\n      <td>10.000000</td>\n      <td>11.000000</td>\n      <td>12.000000</td>\n      <td>13.000000</td>\n      <td>17.000000</td>\n      <td>18.000000</td>\n      <td>...</td>\n      <td>191.000000</td>\n      <td>210.000000</td>\n      <td>218.000000</td>\n      <td>198.000000</td>\n      <td>205.000000</td>\n      <td>214.000000</td>\n      <td>211.000000</td>\n      <td>179.000000</td>\n      <td>233.000000</td>\n      <td>213.000000</td>\n    </tr>\n    <tr>\n      <th>75%</th>\n      <td>922.000000</td>\n      <td>925.500000</td>\n      <td>902.000000</td>\n      <td>251.500000</td>\n      <td>295.500000</td>\n      <td>275.000000</td>\n      <td>173.000000</td>\n      <td>181.000000</td>\n      <td>197.000000</td>\n      <td>254.000000</td>\n      <td>...</td>\n      <td>756.500000</td>\n      <td>832.000000</td>\n      <td>842.000000</td>\n      <td>899.000000</td>\n      <td>934.500000</td>\n      <td>888.000000</td>\n      <td>932.000000</td>\n      <td>772.000000</td>\n      <td>783.000000</td>\n      <td>796.000000</td>\n    </tr>\n    <tr>\n      <th>max</th>\n      <td>935.000000</td>\n      <td>5501.000000</td>\n      <td>902.000000</td>\n      <td>22045.000000</td>\n      <td>24796.000000</td>\n      <td>20620.000000</td>\n      <td>10015.000000</td>\n      <td>10170.000000</td>\n      <td>9564.000000</td>\n      <td>9470.000000</td>\n      <td>...</td>\n      <td>36619.000000</td>\n      <td>42584.000000</td>\n      <td>33848.000000</td>\n      <td>28742.000000</td>\n      <td>30037.000000</td>\n      <td>29622.000000</td>\n      <td>38617.000000</td>\n      <td>36765.000000</td>\n      <td>34315.000000</td>\n      <td>34129.000000</td>\n    </tr>\n  </tbody>\n</table>\n<p>8 rows × 37 columns</p>\n</div>"
     },
     "metadata": {},
     "execution_count": 12
    }
   ],
   "source": [
    "df.describe()"
   ]
  },
  {
   "cell_type": "code",
   "execution_count": 15,
   "metadata": {},
   "outputs": [
    {
     "output_type": "stream",
     "name": "stdout",
     "text": [
      "<class 'pandas.core.frame.DataFrame'>\nRangeIndex: 195 entries, 0 to 194\nData columns (total 43 columns):\n #   Column    Non-Null Count  Dtype \n---  ------    --------------  ----- \n 0   Type      195 non-null    object\n 1   Coverage  195 non-null    object\n 2   OdName    195 non-null    object\n 3   AREA      195 non-null    int64 \n 4   AreaName  195 non-null    object\n 5   REG       195 non-null    int64 \n 6   RegName   195 non-null    object\n 7   DEV       195 non-null    int64 \n 8   DevName   195 non-null    object\n 9   1980      195 non-null    int64 \n 10  1981      195 non-null    int64 \n 11  1982      195 non-null    int64 \n 12  1983      195 non-null    int64 \n 13  1984      195 non-null    int64 \n 14  1985      195 non-null    int64 \n 15  1986      195 non-null    int64 \n 16  1987      195 non-null    int64 \n 17  1988      195 non-null    int64 \n 18  1989      195 non-null    int64 \n 19  1990      195 non-null    int64 \n 20  1991      195 non-null    int64 \n 21  1992      195 non-null    int64 \n 22  1993      195 non-null    int64 \n 23  1994      195 non-null    int64 \n 24  1995      195 non-null    int64 \n 25  1996      195 non-null    int64 \n 26  1997      195 non-null    int64 \n 27  1998      195 non-null    int64 \n 28  1999      195 non-null    int64 \n 29  2000      195 non-null    int64 \n 30  2001      195 non-null    int64 \n 31  2002      195 non-null    int64 \n 32  2003      195 non-null    int64 \n 33  2004      195 non-null    int64 \n 34  2005      195 non-null    int64 \n 35  2006      195 non-null    int64 \n 36  2007      195 non-null    int64 \n 37  2008      195 non-null    int64 \n 38  2009      195 non-null    int64 \n 39  2010      195 non-null    int64 \n 40  2011      195 non-null    int64 \n 41  2012      195 non-null    int64 \n 42  2013      195 non-null    int64 \ndtypes: int64(37), object(6)\nmemory usage: 65.6+ KB\n"
     ]
    }
   ],
   "source": [
    "df.info()"
   ]
  },
  {
   "cell_type": "code",
   "execution_count": 19,
   "metadata": {},
   "outputs": [
    {
     "output_type": "execute_result",
     "data": {
      "text/plain": [
       "Index([    'Type', 'Coverage',   'OdName',     'AREA', 'AreaName',      'REG',\n",
       "        'RegName',      'DEV',  'DevName',       1980,       1981,       1982,\n",
       "             1983,       1984,       1985,       1986,       1987,       1988,\n",
       "             1989,       1990,       1991,       1992,       1993,       1994,\n",
       "             1995,       1996,       1997,       1998,       1999,       2000,\n",
       "             2001,       2002,       2003,       2004,       2005,       2006,\n",
       "             2007,       2008,       2009,       2010,       2011,       2012,\n",
       "             2013],\n",
       "      dtype='object')"
      ]
     },
     "metadata": {},
     "execution_count": 19
    }
   ],
   "source": [
    "df.columns"
   ]
  },
  {
   "cell_type": "code",
   "execution_count": 20,
   "metadata": {},
   "outputs": [
    {
     "output_type": "execute_result",
     "data": {
      "text/plain": [
       "         Type    Coverage          OdName  AREA AreaName   REG  \\\n",
       "0  Immigrants  Foreigners     Afghanistan   935     Asia  5501   \n",
       "1  Immigrants  Foreigners         Albania   908   Europe   925   \n",
       "2  Immigrants  Foreigners         Algeria   903   Africa   912   \n",
       "3  Immigrants  Foreigners  American Samoa   909  Oceania   957   \n",
       "4  Immigrants  Foreigners         Andorra   908   Europe   925   \n",
       "\n",
       "           RegName  DEV             DevName  1980  ...  2004  2005  2006  \\\n",
       "0    Southern Asia  902  Developing regions    16  ...  2978  3436  3009   \n",
       "1  Southern Europe  901   Developed regions     1  ...  1450  1223   856   \n",
       "2  Northern Africa  902  Developing regions    80  ...  3616  3626  4807   \n",
       "3        Polynesia  902  Developing regions     0  ...     0     0     1   \n",
       "4  Southern Europe  901   Developed regions     0  ...     0     0     1   \n",
       "\n",
       "   2007  2008  2009  2010  2011  2012  2013  \n",
       "0  2652  2111  1746  1758  2203  2635  2004  \n",
       "1   702   560   716   561   539   620   603  \n",
       "2  3623  4005  5393  4752  4325  3774  4331  \n",
       "3     0     0     0     0     0     0     0  \n",
       "4     1     0     0     0     0     1     1  \n",
       "\n",
       "[5 rows x 43 columns]"
      ],
      "text/html": "<div>\n<style scoped>\n    .dataframe tbody tr th:only-of-type {\n        vertical-align: middle;\n    }\n\n    .dataframe tbody tr th {\n        vertical-align: top;\n    }\n\n    .dataframe thead th {\n        text-align: right;\n    }\n</style>\n<table border=\"1\" class=\"dataframe\">\n  <thead>\n    <tr style=\"text-align: right;\">\n      <th></th>\n      <th>Type</th>\n      <th>Coverage</th>\n      <th>OdName</th>\n      <th>AREA</th>\n      <th>AreaName</th>\n      <th>REG</th>\n      <th>RegName</th>\n      <th>DEV</th>\n      <th>DevName</th>\n      <th>1980</th>\n      <th>...</th>\n      <th>2004</th>\n      <th>2005</th>\n      <th>2006</th>\n      <th>2007</th>\n      <th>2008</th>\n      <th>2009</th>\n      <th>2010</th>\n      <th>2011</th>\n      <th>2012</th>\n      <th>2013</th>\n    </tr>\n  </thead>\n  <tbody>\n    <tr>\n      <th>0</th>\n      <td>Immigrants</td>\n      <td>Foreigners</td>\n      <td>Afghanistan</td>\n      <td>935</td>\n      <td>Asia</td>\n      <td>5501</td>\n      <td>Southern Asia</td>\n      <td>902</td>\n      <td>Developing regions</td>\n      <td>16</td>\n      <td>...</td>\n      <td>2978</td>\n      <td>3436</td>\n      <td>3009</td>\n      <td>2652</td>\n      <td>2111</td>\n      <td>1746</td>\n      <td>1758</td>\n      <td>2203</td>\n      <td>2635</td>\n      <td>2004</td>\n    </tr>\n    <tr>\n      <th>1</th>\n      <td>Immigrants</td>\n      <td>Foreigners</td>\n      <td>Albania</td>\n      <td>908</td>\n      <td>Europe</td>\n      <td>925</td>\n      <td>Southern Europe</td>\n      <td>901</td>\n      <td>Developed regions</td>\n      <td>1</td>\n      <td>...</td>\n      <td>1450</td>\n      <td>1223</td>\n      <td>856</td>\n      <td>702</td>\n      <td>560</td>\n      <td>716</td>\n      <td>561</td>\n      <td>539</td>\n      <td>620</td>\n      <td>603</td>\n    </tr>\n    <tr>\n      <th>2</th>\n      <td>Immigrants</td>\n      <td>Foreigners</td>\n      <td>Algeria</td>\n      <td>903</td>\n      <td>Africa</td>\n      <td>912</td>\n      <td>Northern Africa</td>\n      <td>902</td>\n      <td>Developing regions</td>\n      <td>80</td>\n      <td>...</td>\n      <td>3616</td>\n      <td>3626</td>\n      <td>4807</td>\n      <td>3623</td>\n      <td>4005</td>\n      <td>5393</td>\n      <td>4752</td>\n      <td>4325</td>\n      <td>3774</td>\n      <td>4331</td>\n    </tr>\n    <tr>\n      <th>3</th>\n      <td>Immigrants</td>\n      <td>Foreigners</td>\n      <td>American Samoa</td>\n      <td>909</td>\n      <td>Oceania</td>\n      <td>957</td>\n      <td>Polynesia</td>\n      <td>902</td>\n      <td>Developing regions</td>\n      <td>0</td>\n      <td>...</td>\n      <td>0</td>\n      <td>0</td>\n      <td>1</td>\n      <td>0</td>\n      <td>0</td>\n      <td>0</td>\n      <td>0</td>\n      <td>0</td>\n      <td>0</td>\n      <td>0</td>\n    </tr>\n    <tr>\n      <th>4</th>\n      <td>Immigrants</td>\n      <td>Foreigners</td>\n      <td>Andorra</td>\n      <td>908</td>\n      <td>Europe</td>\n      <td>925</td>\n      <td>Southern Europe</td>\n      <td>901</td>\n      <td>Developed regions</td>\n      <td>0</td>\n      <td>...</td>\n      <td>0</td>\n      <td>0</td>\n      <td>1</td>\n      <td>1</td>\n      <td>0</td>\n      <td>0</td>\n      <td>0</td>\n      <td>0</td>\n      <td>1</td>\n      <td>1</td>\n    </tr>\n  </tbody>\n</table>\n<p>5 rows × 43 columns</p>\n</div>"
     },
     "metadata": {},
     "execution_count": 20
    }
   ],
   "source": [
    "df.head()"
   ]
  },
  {
   "cell_type": "code",
   "execution_count": 24,
   "metadata": {},
   "outputs": [],
   "source": [
    "countries = df.OdName"
   ]
  },
  {
   "cell_type": "code",
   "execution_count": 28,
   "metadata": {},
   "outputs": [
    {
     "output_type": "execute_result",
     "data": {
      "text/plain": [
       "0         Afghanistan\n",
       "1             Albania\n",
       "2             Algeria\n",
       "3      American Samoa\n",
       "4             Andorra\n",
       "            ...      \n",
       "190          Viet Nam\n",
       "191    Western Sahara\n",
       "192             Yemen\n",
       "193            Zambia\n",
       "194          Zimbabwe\n",
       "Name: OdName, Length: 195, dtype: object"
      ]
     },
     "metadata": {},
     "execution_count": 28
    }
   ],
   "source": [
    "df['OdName']"
   ]
  },
  {
   "cell_type": "code",
   "execution_count": 29,
   "metadata": {},
   "outputs": [
    {
     "output_type": "execute_result",
     "data": {
      "text/plain": [
       "0        16\n",
       "1         1\n",
       "2        80\n",
       "3         0\n",
       "4         0\n",
       "       ... \n",
       "190    1191\n",
       "191       0\n",
       "192       1\n",
       "193      11\n",
       "194      72\n",
       "Name: 1980, Length: 195, dtype: int64"
      ]
     },
     "metadata": {},
     "execution_count": 29
    }
   ],
   "source": [
    "df[1980]"
   ]
  },
  {
   "cell_type": "code",
   "execution_count": 30,
   "metadata": {},
   "outputs": [
    {
     "output_type": "execute_result",
     "data": {
      "text/plain": [
       "           Type    Coverage          OdName  AREA AreaName   REG  \\\n",
       "0    Immigrants  Foreigners     Afghanistan   935     Asia  5501   \n",
       "1    Immigrants  Foreigners         Albania   908   Europe   925   \n",
       "2    Immigrants  Foreigners         Algeria   903   Africa   912   \n",
       "3    Immigrants  Foreigners  American Samoa   909  Oceania   957   \n",
       "4    Immigrants  Foreigners         Andorra   908   Europe   925   \n",
       "..          ...         ...             ...   ...      ...   ...   \n",
       "190  Immigrants  Foreigners        Viet Nam   935     Asia   920   \n",
       "191  Immigrants  Foreigners  Western Sahara   903   Africa   912   \n",
       "192  Immigrants  Foreigners           Yemen   935     Asia   922   \n",
       "193  Immigrants  Foreigners          Zambia   903   Africa   910   \n",
       "194  Immigrants  Foreigners        Zimbabwe   903   Africa   910   \n",
       "\n",
       "                RegName  DEV             DevName  1980  ...  2004  2005  2006  \\\n",
       "0         Southern Asia  902  Developing regions    16  ...  2978  3436  3009   \n",
       "1       Southern Europe  901   Developed regions     1  ...  1450  1223   856   \n",
       "2       Northern Africa  902  Developing regions    80  ...  3616  3626  4807   \n",
       "3             Polynesia  902  Developing regions     0  ...     0     0     1   \n",
       "4       Southern Europe  901   Developed regions     0  ...     0     0     1   \n",
       "..                  ...  ...                 ...   ...  ...   ...   ...   ...   \n",
       "190  South-Eastern Asia  902  Developing regions  1191  ...  1816  1852  3153   \n",
       "191     Northern Africa  902  Developing regions     0  ...     0     0     1   \n",
       "192        Western Asia  902  Developing regions     1  ...   124   161   140   \n",
       "193      Eastern Africa  902  Developing regions    11  ...    56    91    77   \n",
       "194      Eastern Africa  902  Developing regions    72  ...  1450   615   454   \n",
       "\n",
       "     2007  2008  2009  2010  2011  2012  2013  \n",
       "0    2652  2111  1746  1758  2203  2635  2004  \n",
       "1     702   560   716   561   539   620   603  \n",
       "2    3623  4005  5393  4752  4325  3774  4331  \n",
       "3       0     0     0     0     0     0     0  \n",
       "4       1     0     0     0     0     1     1  \n",
       "..    ...   ...   ...   ...   ...   ...   ...  \n",
       "190  2574  1784  2171  1942  1723  1731  2112  \n",
       "191     0     0     0     0     0     0     0  \n",
       "192   122   133   128   211   160   174   217  \n",
       "193    71    64    60   102    69    46    59  \n",
       "194   663   611   508   494   434   437   407  \n",
       "\n",
       "[195 rows x 43 columns]"
      ],
      "text/html": "<div>\n<style scoped>\n    .dataframe tbody tr th:only-of-type {\n        vertical-align: middle;\n    }\n\n    .dataframe tbody tr th {\n        vertical-align: top;\n    }\n\n    .dataframe thead th {\n        text-align: right;\n    }\n</style>\n<table border=\"1\" class=\"dataframe\">\n  <thead>\n    <tr style=\"text-align: right;\">\n      <th></th>\n      <th>Type</th>\n      <th>Coverage</th>\n      <th>OdName</th>\n      <th>AREA</th>\n      <th>AreaName</th>\n      <th>REG</th>\n      <th>RegName</th>\n      <th>DEV</th>\n      <th>DevName</th>\n      <th>1980</th>\n      <th>...</th>\n      <th>2004</th>\n      <th>2005</th>\n      <th>2006</th>\n      <th>2007</th>\n      <th>2008</th>\n      <th>2009</th>\n      <th>2010</th>\n      <th>2011</th>\n      <th>2012</th>\n      <th>2013</th>\n    </tr>\n  </thead>\n  <tbody>\n    <tr>\n      <th>0</th>\n      <td>Immigrants</td>\n      <td>Foreigners</td>\n      <td>Afghanistan</td>\n      <td>935</td>\n      <td>Asia</td>\n      <td>5501</td>\n      <td>Southern Asia</td>\n      <td>902</td>\n      <td>Developing regions</td>\n      <td>16</td>\n      <td>...</td>\n      <td>2978</td>\n      <td>3436</td>\n      <td>3009</td>\n      <td>2652</td>\n      <td>2111</td>\n      <td>1746</td>\n      <td>1758</td>\n      <td>2203</td>\n      <td>2635</td>\n      <td>2004</td>\n    </tr>\n    <tr>\n      <th>1</th>\n      <td>Immigrants</td>\n      <td>Foreigners</td>\n      <td>Albania</td>\n      <td>908</td>\n      <td>Europe</td>\n      <td>925</td>\n      <td>Southern Europe</td>\n      <td>901</td>\n      <td>Developed regions</td>\n      <td>1</td>\n      <td>...</td>\n      <td>1450</td>\n      <td>1223</td>\n      <td>856</td>\n      <td>702</td>\n      <td>560</td>\n      <td>716</td>\n      <td>561</td>\n      <td>539</td>\n      <td>620</td>\n      <td>603</td>\n    </tr>\n    <tr>\n      <th>2</th>\n      <td>Immigrants</td>\n      <td>Foreigners</td>\n      <td>Algeria</td>\n      <td>903</td>\n      <td>Africa</td>\n      <td>912</td>\n      <td>Northern Africa</td>\n      <td>902</td>\n      <td>Developing regions</td>\n      <td>80</td>\n      <td>...</td>\n      <td>3616</td>\n      <td>3626</td>\n      <td>4807</td>\n      <td>3623</td>\n      <td>4005</td>\n      <td>5393</td>\n      <td>4752</td>\n      <td>4325</td>\n      <td>3774</td>\n      <td>4331</td>\n    </tr>\n    <tr>\n      <th>3</th>\n      <td>Immigrants</td>\n      <td>Foreigners</td>\n      <td>American Samoa</td>\n      <td>909</td>\n      <td>Oceania</td>\n      <td>957</td>\n      <td>Polynesia</td>\n      <td>902</td>\n      <td>Developing regions</td>\n      <td>0</td>\n      <td>...</td>\n      <td>0</td>\n      <td>0</td>\n      <td>1</td>\n      <td>0</td>\n      <td>0</td>\n      <td>0</td>\n      <td>0</td>\n      <td>0</td>\n      <td>0</td>\n      <td>0</td>\n    </tr>\n    <tr>\n      <th>4</th>\n      <td>Immigrants</td>\n      <td>Foreigners</td>\n      <td>Andorra</td>\n      <td>908</td>\n      <td>Europe</td>\n      <td>925</td>\n      <td>Southern Europe</td>\n      <td>901</td>\n      <td>Developed regions</td>\n      <td>0</td>\n      <td>...</td>\n      <td>0</td>\n      <td>0</td>\n      <td>1</td>\n      <td>1</td>\n      <td>0</td>\n      <td>0</td>\n      <td>0</td>\n      <td>0</td>\n      <td>1</td>\n      <td>1</td>\n    </tr>\n    <tr>\n      <th>...</th>\n      <td>...</td>\n      <td>...</td>\n      <td>...</td>\n      <td>...</td>\n      <td>...</td>\n      <td>...</td>\n      <td>...</td>\n      <td>...</td>\n      <td>...</td>\n      <td>...</td>\n      <td>...</td>\n      <td>...</td>\n      <td>...</td>\n      <td>...</td>\n      <td>...</td>\n      <td>...</td>\n      <td>...</td>\n      <td>...</td>\n      <td>...</td>\n      <td>...</td>\n      <td>...</td>\n    </tr>\n    <tr>\n      <th>190</th>\n      <td>Immigrants</td>\n      <td>Foreigners</td>\n      <td>Viet Nam</td>\n      <td>935</td>\n      <td>Asia</td>\n      <td>920</td>\n      <td>South-Eastern Asia</td>\n      <td>902</td>\n      <td>Developing regions</td>\n      <td>1191</td>\n      <td>...</td>\n      <td>1816</td>\n      <td>1852</td>\n      <td>3153</td>\n      <td>2574</td>\n      <td>1784</td>\n      <td>2171</td>\n      <td>1942</td>\n      <td>1723</td>\n      <td>1731</td>\n      <td>2112</td>\n    </tr>\n    <tr>\n      <th>191</th>\n      <td>Immigrants</td>\n      <td>Foreigners</td>\n      <td>Western Sahara</td>\n      <td>903</td>\n      <td>Africa</td>\n      <td>912</td>\n      <td>Northern Africa</td>\n      <td>902</td>\n      <td>Developing regions</td>\n      <td>0</td>\n      <td>...</td>\n      <td>0</td>\n      <td>0</td>\n      <td>1</td>\n      <td>0</td>\n      <td>0</td>\n      <td>0</td>\n      <td>0</td>\n      <td>0</td>\n      <td>0</td>\n      <td>0</td>\n    </tr>\n    <tr>\n      <th>192</th>\n      <td>Immigrants</td>\n      <td>Foreigners</td>\n      <td>Yemen</td>\n      <td>935</td>\n      <td>Asia</td>\n      <td>922</td>\n      <td>Western Asia</td>\n      <td>902</td>\n      <td>Developing regions</td>\n      <td>1</td>\n      <td>...</td>\n      <td>124</td>\n      <td>161</td>\n      <td>140</td>\n      <td>122</td>\n      <td>133</td>\n      <td>128</td>\n      <td>211</td>\n      <td>160</td>\n      <td>174</td>\n      <td>217</td>\n    </tr>\n    <tr>\n      <th>193</th>\n      <td>Immigrants</td>\n      <td>Foreigners</td>\n      <td>Zambia</td>\n      <td>903</td>\n      <td>Africa</td>\n      <td>910</td>\n      <td>Eastern Africa</td>\n      <td>902</td>\n      <td>Developing regions</td>\n      <td>11</td>\n      <td>...</td>\n      <td>56</td>\n      <td>91</td>\n      <td>77</td>\n      <td>71</td>\n      <td>64</td>\n      <td>60</td>\n      <td>102</td>\n      <td>69</td>\n      <td>46</td>\n      <td>59</td>\n    </tr>\n    <tr>\n      <th>194</th>\n      <td>Immigrants</td>\n      <td>Foreigners</td>\n      <td>Zimbabwe</td>\n      <td>903</td>\n      <td>Africa</td>\n      <td>910</td>\n      <td>Eastern Africa</td>\n      <td>902</td>\n      <td>Developing regions</td>\n      <td>72</td>\n      <td>...</td>\n      <td>1450</td>\n      <td>615</td>\n      <td>454</td>\n      <td>663</td>\n      <td>611</td>\n      <td>508</td>\n      <td>494</td>\n      <td>434</td>\n      <td>437</td>\n      <td>407</td>\n    </tr>\n  </tbody>\n</table>\n<p>195 rows × 43 columns</p>\n</div>"
     },
     "metadata": {},
     "execution_count": 30
    }
   ],
   "source": [
    "df"
   ]
  },
  {
   "cell_type": "code",
   "execution_count": 35,
   "metadata": {},
   "outputs": [
    {
     "output_type": "execute_result",
     "data": {
      "text/plain": [
       "pandas.core.frame.DataFrame"
      ]
     },
     "metadata": {},
     "execution_count": 35
    }
   ],
   "source": [
    "type(df)"
   ]
  },
  {
   "cell_type": "code",
   "execution_count": 36,
   "metadata": {},
   "outputs": [
    {
     "output_type": "execute_result",
     "data": {
      "text/plain": [
       "Index([    'Type', 'Coverage',   'OdName',     'AREA', 'AreaName',      'REG',\n",
       "        'RegName',      'DEV',  'DevName',       1980,       1981,       1982,\n",
       "             1983,       1984,       1985,       1986,       1987,       1988,\n",
       "             1989,       1990,       1991,       1992,       1993,       1994,\n",
       "             1995,       1996,       1997,       1998,       1999,       2000,\n",
       "             2001,       2002,       2003,       2004,       2005,       2006,\n",
       "             2007,       2008,       2009,       2010,       2011,       2012,\n",
       "             2013],\n",
       "      dtype='object')"
      ]
     },
     "metadata": {},
     "execution_count": 36
    }
   ],
   "source": [
    "df.columns"
   ]
  },
  {
   "cell_type": "code",
   "execution_count": 38,
   "metadata": {},
   "outputs": [
    {
     "output_type": "execute_result",
     "data": {
      "text/plain": [
       "pandas.core.series.Series"
      ]
     },
     "metadata": {},
     "execution_count": 38
    }
   ],
   "source": [
    "df.OdName"
   ]
  },
  {
   "cell_type": "code",
   "execution_count": 41,
   "metadata": {},
   "outputs": [],
   "source": [
    "countries = df['OdName']"
   ]
  },
  {
   "cell_type": "code",
   "execution_count": 42,
   "metadata": {},
   "outputs": [
    {
     "output_type": "execute_result",
     "data": {
      "text/plain": [
       "RangeIndex(start=0, stop=195, step=1)"
      ]
     },
     "metadata": {},
     "execution_count": 42
    }
   ],
   "source": [
    "countries.index"
   ]
  },
  {
   "cell_type": "code",
   "execution_count": 44,
   "metadata": {},
   "outputs": [
    {
     "output_type": "execute_result",
     "data": {
      "text/plain": [
       "195"
      ]
     },
     "metadata": {},
     "execution_count": 44
    }
   ],
   "source": [
    "len(countries.values)"
   ]
  },
  {
   "cell_type": "code",
   "execution_count": 45,
   "metadata": {},
   "outputs": [
    {
     "output_type": "execute_result",
     "data": {
      "text/plain": [
       "8"
      ]
     },
     "metadata": {},
     "execution_count": 45
    }
   ],
   "source": [
    "len('Mubassir')"
   ]
  },
  {
   "cell_type": "code",
   "execution_count": 46,
   "metadata": {},
   "outputs": [
    {
     "output_type": "execute_result",
     "data": {
      "text/plain": [
       "7"
      ]
     },
     "metadata": {},
     "execution_count": 46
    }
   ],
   "source": [
    "len([1, 2, 54,3, 23, 654, 23])"
   ]
  },
  {
   "cell_type": "code",
   "execution_count": 47,
   "metadata": {},
   "outputs": [
    {
     "output_type": "execute_result",
     "data": {
      "text/plain": [
       "         Type    Coverage          OdName  AREA AreaName   REG  \\\n",
       "0  Immigrants  Foreigners     Afghanistan   935     Asia  5501   \n",
       "1  Immigrants  Foreigners         Albania   908   Europe   925   \n",
       "2  Immigrants  Foreigners         Algeria   903   Africa   912   \n",
       "3  Immigrants  Foreigners  American Samoa   909  Oceania   957   \n",
       "4  Immigrants  Foreigners         Andorra   908   Europe   925   \n",
       "\n",
       "           RegName  DEV             DevName  1980  ...  2004  2005  2006  \\\n",
       "0    Southern Asia  902  Developing regions    16  ...  2978  3436  3009   \n",
       "1  Southern Europe  901   Developed regions     1  ...  1450  1223   856   \n",
       "2  Northern Africa  902  Developing regions    80  ...  3616  3626  4807   \n",
       "3        Polynesia  902  Developing regions     0  ...     0     0     1   \n",
       "4  Southern Europe  901   Developed regions     0  ...     0     0     1   \n",
       "\n",
       "   2007  2008  2009  2010  2011  2012  2013  \n",
       "0  2652  2111  1746  1758  2203  2635  2004  \n",
       "1   702   560   716   561   539   620   603  \n",
       "2  3623  4005  5393  4752  4325  3774  4331  \n",
       "3     0     0     0     0     0     0     0  \n",
       "4     1     0     0     0     0     1     1  \n",
       "\n",
       "[5 rows x 43 columns]"
      ],
      "text/html": "<div>\n<style scoped>\n    .dataframe tbody tr th:only-of-type {\n        vertical-align: middle;\n    }\n\n    .dataframe tbody tr th {\n        vertical-align: top;\n    }\n\n    .dataframe thead th {\n        text-align: right;\n    }\n</style>\n<table border=\"1\" class=\"dataframe\">\n  <thead>\n    <tr style=\"text-align: right;\">\n      <th></th>\n      <th>Type</th>\n      <th>Coverage</th>\n      <th>OdName</th>\n      <th>AREA</th>\n      <th>AreaName</th>\n      <th>REG</th>\n      <th>RegName</th>\n      <th>DEV</th>\n      <th>DevName</th>\n      <th>1980</th>\n      <th>...</th>\n      <th>2004</th>\n      <th>2005</th>\n      <th>2006</th>\n      <th>2007</th>\n      <th>2008</th>\n      <th>2009</th>\n      <th>2010</th>\n      <th>2011</th>\n      <th>2012</th>\n      <th>2013</th>\n    </tr>\n  </thead>\n  <tbody>\n    <tr>\n      <th>0</th>\n      <td>Immigrants</td>\n      <td>Foreigners</td>\n      <td>Afghanistan</td>\n      <td>935</td>\n      <td>Asia</td>\n      <td>5501</td>\n      <td>Southern Asia</td>\n      <td>902</td>\n      <td>Developing regions</td>\n      <td>16</td>\n      <td>...</td>\n      <td>2978</td>\n      <td>3436</td>\n      <td>3009</td>\n      <td>2652</td>\n      <td>2111</td>\n      <td>1746</td>\n      <td>1758</td>\n      <td>2203</td>\n      <td>2635</td>\n      <td>2004</td>\n    </tr>\n    <tr>\n      <th>1</th>\n      <td>Immigrants</td>\n      <td>Foreigners</td>\n      <td>Albania</td>\n      <td>908</td>\n      <td>Europe</td>\n      <td>925</td>\n      <td>Southern Europe</td>\n      <td>901</td>\n      <td>Developed regions</td>\n      <td>1</td>\n      <td>...</td>\n      <td>1450</td>\n      <td>1223</td>\n      <td>856</td>\n      <td>702</td>\n      <td>560</td>\n      <td>716</td>\n      <td>561</td>\n      <td>539</td>\n      <td>620</td>\n      <td>603</td>\n    </tr>\n    <tr>\n      <th>2</th>\n      <td>Immigrants</td>\n      <td>Foreigners</td>\n      <td>Algeria</td>\n      <td>903</td>\n      <td>Africa</td>\n      <td>912</td>\n      <td>Northern Africa</td>\n      <td>902</td>\n      <td>Developing regions</td>\n      <td>80</td>\n      <td>...</td>\n      <td>3616</td>\n      <td>3626</td>\n      <td>4807</td>\n      <td>3623</td>\n      <td>4005</td>\n      <td>5393</td>\n      <td>4752</td>\n      <td>4325</td>\n      <td>3774</td>\n      <td>4331</td>\n    </tr>\n    <tr>\n      <th>3</th>\n      <td>Immigrants</td>\n      <td>Foreigners</td>\n      <td>American Samoa</td>\n      <td>909</td>\n      <td>Oceania</td>\n      <td>957</td>\n      <td>Polynesia</td>\n      <td>902</td>\n      <td>Developing regions</td>\n      <td>0</td>\n      <td>...</td>\n      <td>0</td>\n      <td>0</td>\n      <td>1</td>\n      <td>0</td>\n      <td>0</td>\n      <td>0</td>\n      <td>0</td>\n      <td>0</td>\n      <td>0</td>\n      <td>0</td>\n    </tr>\n    <tr>\n      <th>4</th>\n      <td>Immigrants</td>\n      <td>Foreigners</td>\n      <td>Andorra</td>\n      <td>908</td>\n      <td>Europe</td>\n      <td>925</td>\n      <td>Southern Europe</td>\n      <td>901</td>\n      <td>Developed regions</td>\n      <td>0</td>\n      <td>...</td>\n      <td>0</td>\n      <td>0</td>\n      <td>1</td>\n      <td>1</td>\n      <td>0</td>\n      <td>0</td>\n      <td>0</td>\n      <td>0</td>\n      <td>1</td>\n      <td>1</td>\n    </tr>\n  </tbody>\n</table>\n<p>5 rows × 43 columns</p>\n</div>"
     },
     "metadata": {},
     "execution_count": 47
    }
   ],
   "source": [
    "df.head()"
   ]
  },
  {
   "cell_type": "code",
   "execution_count": 51,
   "metadata": {},
   "outputs": [
    {
     "output_type": "execute_result",
     "data": {
      "text/plain": [
       "Type                Immigrants\n",
       "Coverage            Foreigners\n",
       "OdName                 Algeria\n",
       "AREA                       903\n",
       "AreaName                Africa\n",
       "REG                        912\n",
       "RegName        Northern Africa\n",
       "DEV                        902\n",
       "DevName     Developing regions\n",
       "1980                        80\n",
       "1981                        67\n",
       "1982                        71\n",
       "1983                        69\n",
       "1984                        63\n",
       "1985                        44\n",
       "1986                        69\n",
       "1987                       132\n",
       "1988                       242\n",
       "1989                       434\n",
       "1990                       491\n",
       "1991                       872\n",
       "1992                       795\n",
       "1993                       717\n",
       "1994                       595\n",
       "1995                      1106\n",
       "1996                      2054\n",
       "1997                      1842\n",
       "1998                      2292\n",
       "1999                      2389\n",
       "2000                      2867\n",
       "2001                      3418\n",
       "2002                      3406\n",
       "2003                      3072\n",
       "2004                      3616\n",
       "2005                      3626\n",
       "2006                      4807\n",
       "2007                      3623\n",
       "2008                      4005\n",
       "2009                      5393\n",
       "2010                      4752\n",
       "2011                      4325\n",
       "2012                      3774\n",
       "2013                      4331\n",
       "Name: 2, dtype: object"
      ]
     },
     "metadata": {},
     "execution_count": 51
    }
   ],
   "source": [
    "df.iloc[2]"
   ]
  },
  {
   "cell_type": "code",
   "execution_count": 52,
   "metadata": {},
   "outputs": [
    {
     "output_type": "execute_result",
     "data": {
      "text/plain": [
       "          Type    Coverage                                          OdName  \\\n",
       "2   Immigrants  Foreigners                                         Algeria   \n",
       "3   Immigrants  Foreigners                                  American Samoa   \n",
       "4   Immigrants  Foreigners                                         Andorra   \n",
       "5   Immigrants  Foreigners                                          Angola   \n",
       "6   Immigrants  Foreigners                             Antigua and Barbuda   \n",
       "7   Immigrants  Foreigners                                       Argentina   \n",
       "8   Immigrants  Foreigners                                         Armenia   \n",
       "9   Immigrants  Foreigners                                       Australia   \n",
       "10  Immigrants  Foreigners                                         Austria   \n",
       "11  Immigrants  Foreigners                                      Azerbaijan   \n",
       "12  Immigrants  Foreigners                                         Bahamas   \n",
       "13  Immigrants  Foreigners                                         Bahrain   \n",
       "14  Immigrants  Foreigners                                      Bangladesh   \n",
       "15  Immigrants  Foreigners                                        Barbados   \n",
       "16  Immigrants  Foreigners                                         Belarus   \n",
       "17  Immigrants  Foreigners                                         Belgium   \n",
       "18  Immigrants  Foreigners                                          Belize   \n",
       "19  Immigrants  Foreigners                                           Benin   \n",
       "20  Immigrants  Foreigners                                          Bhutan   \n",
       "21  Immigrants  Foreigners                Bolivia (Plurinational State of)   \n",
       "22  Immigrants  Foreigners                          Bosnia and Herzegovina   \n",
       "23  Immigrants  Foreigners                                        Botswana   \n",
       "24  Immigrants  Foreigners                                          Brazil   \n",
       "25  Immigrants  Foreigners                               Brunei Darussalam   \n",
       "26  Immigrants  Foreigners                                        Bulgaria   \n",
       "27  Immigrants  Foreigners                                    Burkina Faso   \n",
       "28  Immigrants  Foreigners                                         Burundi   \n",
       "29  Immigrants  Foreigners                                      Cabo Verde   \n",
       "30  Immigrants  Foreigners                                        Cambodia   \n",
       "31  Immigrants  Foreigners                                        Cameroon   \n",
       "32  Immigrants    Citizens                                          Canada   \n",
       "33  Immigrants  Foreigners                        Central African Republic   \n",
       "34  Immigrants  Foreigners                                            Chad   \n",
       "35  Immigrants  Foreigners                                           Chile   \n",
       "36  Immigrants  Foreigners                                           China   \n",
       "37  Immigrants  Foreigners  China, Hong Kong Special Administrative Region   \n",
       "38  Immigrants  Foreigners      China, Macao Special Administrative Region   \n",
       "39  Immigrants  Foreigners                                        Colombia   \n",
       "40  Immigrants  Foreigners                                         Comoros   \n",
       "41  Immigrants  Foreigners                                           Congo   \n",
       "42  Immigrants  Foreigners                                      Costa Rica   \n",
       "43  Immigrants  Foreigners                                   Côte d'Ivoire   \n",
       "44  Immigrants  Foreigners                                         Croatia   \n",
       "45  Immigrants  Foreigners                                            Cuba   \n",
       "46  Immigrants  Foreigners                                          Cyprus   \n",
       "47  Immigrants  Foreigners                                  Czech Republic   \n",
       "48  Immigrants  Foreigners           Democratic People's Republic of Korea   \n",
       "49  Immigrants  Foreigners                Democratic Republic of the Congo   \n",
       "\n",
       "    AREA                         AreaName   REG                    RegName  \\\n",
       "2    903                           Africa   912            Northern Africa   \n",
       "3    909                          Oceania   957                  Polynesia   \n",
       "4    908                           Europe   925            Southern Europe   \n",
       "5    903                           Africa   911              Middle Africa   \n",
       "6    904  Latin America and the Caribbean   915                  Caribbean   \n",
       "7    904  Latin America and the Caribbean   931              South America   \n",
       "8    935                             Asia   922               Western Asia   \n",
       "9    909                          Oceania   927  Australia and New Zealand   \n",
       "10   908                           Europe   926             Western Europe   \n",
       "11   935                             Asia   922               Western Asia   \n",
       "12   904  Latin America and the Caribbean   915                  Caribbean   \n",
       "13   935                             Asia   922               Western Asia   \n",
       "14   935                             Asia  5501              Southern Asia   \n",
       "15   904  Latin America and the Caribbean   915                  Caribbean   \n",
       "16   908                           Europe   923             Eastern Europe   \n",
       "17   908                           Europe   926             Western Europe   \n",
       "18   904  Latin America and the Caribbean   916            Central America   \n",
       "19   903                           Africa   914             Western Africa   \n",
       "20   935                             Asia  5501              Southern Asia   \n",
       "21   904  Latin America and the Caribbean   931              South America   \n",
       "22   908                           Europe   925            Southern Europe   \n",
       "23   903                           Africa   913            Southern Africa   \n",
       "24   904  Latin America and the Caribbean   931              South America   \n",
       "25   935                             Asia   920         South-Eastern Asia   \n",
       "26   908                           Europe   923             Eastern Europe   \n",
       "27   903                           Africa   914             Western Africa   \n",
       "28   903                           Africa   910             Eastern Africa   \n",
       "29   903                           Africa   914             Western Africa   \n",
       "30   935                             Asia   920         South-Eastern Asia   \n",
       "31   903                           Africa   911              Middle Africa   \n",
       "32   905                 Northern America   905           Northern America   \n",
       "33   903                           Africa   911              Middle Africa   \n",
       "34   903                           Africa   911              Middle Africa   \n",
       "35   904  Latin America and the Caribbean   931              South America   \n",
       "36   935                             Asia   906               Eastern Asia   \n",
       "37   935                             Asia   906               Eastern Asia   \n",
       "38   935                             Asia   906               Eastern Asia   \n",
       "39   904  Latin America and the Caribbean   931              South America   \n",
       "40   903                           Africa   910             Eastern Africa   \n",
       "41   903                           Africa   911              Middle Africa   \n",
       "42   904  Latin America and the Caribbean   916            Central America   \n",
       "43   903                           Africa   914             Western Africa   \n",
       "44   908                           Europe   925            Southern Europe   \n",
       "45   904  Latin America and the Caribbean   915                  Caribbean   \n",
       "46   935                             Asia   922               Western Asia   \n",
       "47   908                           Europe   923             Eastern Europe   \n",
       "48   935                             Asia   906               Eastern Asia   \n",
       "49   903                           Africa   911              Middle Africa   \n",
       "\n",
       "    DEV             DevName  1980  ...   2004   2005   2006   2007   2008  \\\n",
       "2   902  Developing regions    80  ...   3616   3626   4807   3623   4005   \n",
       "3   902  Developing regions     0  ...      0      0      1      0      0   \n",
       "4   901   Developed regions     0  ...      0      0      1      1      0   \n",
       "5   902  Developing regions     1  ...    268    295    184    106     76   \n",
       "6   902  Developing regions     0  ...     14     24     32     15     32   \n",
       "7   902  Developing regions   368  ...   1591   1153    847    620    540   \n",
       "8   902  Developing regions     0  ...    147    224    218    198    205   \n",
       "9   901   Developed regions   702  ...    930    909    875   1033   1018   \n",
       "10  901   Developed regions   234  ...    118    122    102     98     91   \n",
       "11  902  Developing regions     0  ...    230    359    236    203    125   \n",
       "12  902  Developing regions    26  ...     13     14     18     23     30   \n",
       "13  902  Developing regions     0  ...     12     12     12     22      9   \n",
       "14  902  Developing regions    83  ...   2660   4171   4014   2897   2939   \n",
       "15  902  Developing regions   372  ...     90    111     97    130    134   \n",
       "16  901   Developed regions     0  ...    543    558    439    568    524   \n",
       "17  901   Developed regions   511  ...    411    400    302    363    335   \n",
       "18  902  Developing regions    16  ...     25     37     24     28     48   \n",
       "19  902  Developing regions     2  ...    112     95    116    183    205   \n",
       "20  902  Developing regions     0  ...      1      5     10      7     36   \n",
       "21  902  Developing regions    44  ...     85    134    139    107    143   \n",
       "22  901   Developed regions     0  ...    188    211    217    209    182   \n",
       "23  902  Developing regions    10  ...      9      7     11      8     28   \n",
       "24  902  Developing regions   211  ...    917    969   1181   1746   2138   \n",
       "25  902  Developing regions    79  ...      3      4      5     11     10   \n",
       "26  901   Developed regions    24  ...   2022   1738   1419   1172    994   \n",
       "27  902  Developing regions     2  ...     97     91    147    136    139   \n",
       "28  902  Developing regions     0  ...    559    626    468    614    448   \n",
       "29  902  Developing regions     1  ...      3      5      7      2      5   \n",
       "30  902  Developing regions    12  ...    348    370    529    460    354   \n",
       "31  902  Developing regions     9  ...    436    604    697   1025   1279   \n",
       "32  901   Developed regions     0  ...      0      0      0      0      0   \n",
       "33  902  Developing regions     4  ...     13     49     18     30     28   \n",
       "34  902  Developing regions     0  ...     92    126     96    131     95   \n",
       "35  902  Developing regions  1233  ...    383    384    427    530    350   \n",
       "36  902  Developing regions  5123  ...  36619  42584  33518  27642  30037   \n",
       "37  902  Developing regions     0  ...    536    729    712    674    897   \n",
       "38  902  Developing regions     0  ...     21     21     32     16     12   \n",
       "39  902  Developing regions   266  ...   4566   6424   6535   5357   5452   \n",
       "40  902  Developing regions     0  ...      6      5      7     11      3   \n",
       "41  902  Developing regions     2  ...    142    136    143     87     72   \n",
       "42  902  Developing regions    28  ...    165    188    279    281    246   \n",
       "43  902  Developing regions    14  ...    256    294    431    619    646   \n",
       "44  901   Developed regions     0  ...    151    128    102    102    131   \n",
       "45  902  Developing regions   306  ...    866    999   1064   1350   1300   \n",
       "46  902  Developing regions   132  ...     11      7      9      4      7   \n",
       "47  901   Developed regions     0  ...    191    193    146    137    104   \n",
       "48  902  Developing regions     1  ...     15     14     10      7     19   \n",
       "49  902  Developing regions    15  ...   1465   1521   1623   1466   1397   \n",
       "\n",
       "     2009   2010   2011   2012   2013  \n",
       "2    5393   4752   4325   3774   4331  \n",
       "3       0      0      0      0      0  \n",
       "4       0      0      0      1      1  \n",
       "5      62     61     39     70     45  \n",
       "6      38     27     37     51     25  \n",
       "7     467    459    278    263    282  \n",
       "8     267    252    236    258    207  \n",
       "9    1018    933    851    982   1121  \n",
       "10    109    124     84    102     90  \n",
       "11    165    209    138    161     57  \n",
       "12     27     25     40     60     55  \n",
       "13     35     28     21     39     32  \n",
       "14   2104   4721   2694   2640   3789  \n",
       "15    125    121     97    132     97  \n",
       "16    454    438    357    277    247  \n",
       "17    358    363    332    402    379  \n",
       "18     38     39     36     34     53  \n",
       "19    238    290    284    391    397  \n",
       "20    865   1464   1879   1075    487  \n",
       "21    214    180     86     83    107  \n",
       "22    156    168    140    121    119  \n",
       "23     15     42     53     64     76  \n",
       "24   2509   2598   1508   1642   1714  \n",
       "25      5     12      6      3      6  \n",
       "26    784    556    365    451    512  \n",
       "27    162    186    144    269    322  \n",
       "28    566    529    604    684    480  \n",
       "29      1      3      3      6      2  \n",
       "30    203    200    196    233    288  \n",
       "31   1344   1800   1638   2507   2439  \n",
       "32      0      0      1      1      2  \n",
       "33     19     26     18     45    169  \n",
       "34     87     98     79     97     86  \n",
       "35    375    340    174    291    273  \n",
       "36  29622  30391  28502  33024  34129  \n",
       "37    657    623    591    728    774  \n",
       "38     21     21     13     33     29  \n",
       "39   4652   5218   4366   3741   3631  \n",
       "40     19     22     14     18     22  \n",
       "41     70     75     81     91    114  \n",
       "42    217    190    149    183    122  \n",
       "43    668   1066    636   1024   1170  \n",
       "44     92     91    135    112    125  \n",
       "45   1433    961    962   1304   1402  \n",
       "46      6     18      6     12     16  \n",
       "47    159    168    128    173    174  \n",
       "48     11     45     97     66     17  \n",
       "49   1581   1239   1224   1714   2050  \n",
       "\n",
       "[48 rows x 43 columns]"
      ],
      "text/html": "<div>\n<style scoped>\n    .dataframe tbody tr th:only-of-type {\n        vertical-align: middle;\n    }\n\n    .dataframe tbody tr th {\n        vertical-align: top;\n    }\n\n    .dataframe thead th {\n        text-align: right;\n    }\n</style>\n<table border=\"1\" class=\"dataframe\">\n  <thead>\n    <tr style=\"text-align: right;\">\n      <th></th>\n      <th>Type</th>\n      <th>Coverage</th>\n      <th>OdName</th>\n      <th>AREA</th>\n      <th>AreaName</th>\n      <th>REG</th>\n      <th>RegName</th>\n      <th>DEV</th>\n      <th>DevName</th>\n      <th>1980</th>\n      <th>...</th>\n      <th>2004</th>\n      <th>2005</th>\n      <th>2006</th>\n      <th>2007</th>\n      <th>2008</th>\n      <th>2009</th>\n      <th>2010</th>\n      <th>2011</th>\n      <th>2012</th>\n      <th>2013</th>\n    </tr>\n  </thead>\n  <tbody>\n    <tr>\n      <th>2</th>\n      <td>Immigrants</td>\n      <td>Foreigners</td>\n      <td>Algeria</td>\n      <td>903</td>\n      <td>Africa</td>\n      <td>912</td>\n      <td>Northern Africa</td>\n      <td>902</td>\n      <td>Developing regions</td>\n      <td>80</td>\n      <td>...</td>\n      <td>3616</td>\n      <td>3626</td>\n      <td>4807</td>\n      <td>3623</td>\n      <td>4005</td>\n      <td>5393</td>\n      <td>4752</td>\n      <td>4325</td>\n      <td>3774</td>\n      <td>4331</td>\n    </tr>\n    <tr>\n      <th>3</th>\n      <td>Immigrants</td>\n      <td>Foreigners</td>\n      <td>American Samoa</td>\n      <td>909</td>\n      <td>Oceania</td>\n      <td>957</td>\n      <td>Polynesia</td>\n      <td>902</td>\n      <td>Developing regions</td>\n      <td>0</td>\n      <td>...</td>\n      <td>0</td>\n      <td>0</td>\n      <td>1</td>\n      <td>0</td>\n      <td>0</td>\n      <td>0</td>\n      <td>0</td>\n      <td>0</td>\n      <td>0</td>\n      <td>0</td>\n    </tr>\n    <tr>\n      <th>4</th>\n      <td>Immigrants</td>\n      <td>Foreigners</td>\n      <td>Andorra</td>\n      <td>908</td>\n      <td>Europe</td>\n      <td>925</td>\n      <td>Southern Europe</td>\n      <td>901</td>\n      <td>Developed regions</td>\n      <td>0</td>\n      <td>...</td>\n      <td>0</td>\n      <td>0</td>\n      <td>1</td>\n      <td>1</td>\n      <td>0</td>\n      <td>0</td>\n      <td>0</td>\n      <td>0</td>\n      <td>1</td>\n      <td>1</td>\n    </tr>\n    <tr>\n      <th>5</th>\n      <td>Immigrants</td>\n      <td>Foreigners</td>\n      <td>Angola</td>\n      <td>903</td>\n      <td>Africa</td>\n      <td>911</td>\n      <td>Middle Africa</td>\n      <td>902</td>\n      <td>Developing regions</td>\n      <td>1</td>\n      <td>...</td>\n      <td>268</td>\n      <td>295</td>\n      <td>184</td>\n      <td>106</td>\n      <td>76</td>\n      <td>62</td>\n      <td>61</td>\n      <td>39</td>\n      <td>70</td>\n      <td>45</td>\n    </tr>\n    <tr>\n      <th>6</th>\n      <td>Immigrants</td>\n      <td>Foreigners</td>\n      <td>Antigua and Barbuda</td>\n      <td>904</td>\n      <td>Latin America and the Caribbean</td>\n      <td>915</td>\n      <td>Caribbean</td>\n      <td>902</td>\n      <td>Developing regions</td>\n      <td>0</td>\n      <td>...</td>\n      <td>14</td>\n      <td>24</td>\n      <td>32</td>\n      <td>15</td>\n      <td>32</td>\n      <td>38</td>\n      <td>27</td>\n      <td>37</td>\n      <td>51</td>\n      <td>25</td>\n    </tr>\n    <tr>\n      <th>7</th>\n      <td>Immigrants</td>\n      <td>Foreigners</td>\n      <td>Argentina</td>\n      <td>904</td>\n      <td>Latin America and the Caribbean</td>\n      <td>931</td>\n      <td>South America</td>\n      <td>902</td>\n      <td>Developing regions</td>\n      <td>368</td>\n      <td>...</td>\n      <td>1591</td>\n      <td>1153</td>\n      <td>847</td>\n      <td>620</td>\n      <td>540</td>\n      <td>467</td>\n      <td>459</td>\n      <td>278</td>\n      <td>263</td>\n      <td>282</td>\n    </tr>\n    <tr>\n      <th>8</th>\n      <td>Immigrants</td>\n      <td>Foreigners</td>\n      <td>Armenia</td>\n      <td>935</td>\n      <td>Asia</td>\n      <td>922</td>\n      <td>Western Asia</td>\n      <td>902</td>\n      <td>Developing regions</td>\n      <td>0</td>\n      <td>...</td>\n      <td>147</td>\n      <td>224</td>\n      <td>218</td>\n      <td>198</td>\n      <td>205</td>\n      <td>267</td>\n      <td>252</td>\n      <td>236</td>\n      <td>258</td>\n      <td>207</td>\n    </tr>\n    <tr>\n      <th>9</th>\n      <td>Immigrants</td>\n      <td>Foreigners</td>\n      <td>Australia</td>\n      <td>909</td>\n      <td>Oceania</td>\n      <td>927</td>\n      <td>Australia and New Zealand</td>\n      <td>901</td>\n      <td>Developed regions</td>\n      <td>702</td>\n      <td>...</td>\n      <td>930</td>\n      <td>909</td>\n      <td>875</td>\n      <td>1033</td>\n      <td>1018</td>\n      <td>1018</td>\n      <td>933</td>\n      <td>851</td>\n      <td>982</td>\n      <td>1121</td>\n    </tr>\n    <tr>\n      <th>10</th>\n      <td>Immigrants</td>\n      <td>Foreigners</td>\n      <td>Austria</td>\n      <td>908</td>\n      <td>Europe</td>\n      <td>926</td>\n      <td>Western Europe</td>\n      <td>901</td>\n      <td>Developed regions</td>\n      <td>234</td>\n      <td>...</td>\n      <td>118</td>\n      <td>122</td>\n      <td>102</td>\n      <td>98</td>\n      <td>91</td>\n      <td>109</td>\n      <td>124</td>\n      <td>84</td>\n      <td>102</td>\n      <td>90</td>\n    </tr>\n    <tr>\n      <th>11</th>\n      <td>Immigrants</td>\n      <td>Foreigners</td>\n      <td>Azerbaijan</td>\n      <td>935</td>\n      <td>Asia</td>\n      <td>922</td>\n      <td>Western Asia</td>\n      <td>902</td>\n      <td>Developing regions</td>\n      <td>0</td>\n      <td>...</td>\n      <td>230</td>\n      <td>359</td>\n      <td>236</td>\n      <td>203</td>\n      <td>125</td>\n      <td>165</td>\n      <td>209</td>\n      <td>138</td>\n      <td>161</td>\n      <td>57</td>\n    </tr>\n    <tr>\n      <th>12</th>\n      <td>Immigrants</td>\n      <td>Foreigners</td>\n      <td>Bahamas</td>\n      <td>904</td>\n      <td>Latin America and the Caribbean</td>\n      <td>915</td>\n      <td>Caribbean</td>\n      <td>902</td>\n      <td>Developing regions</td>\n      <td>26</td>\n      <td>...</td>\n      <td>13</td>\n      <td>14</td>\n      <td>18</td>\n      <td>23</td>\n      <td>30</td>\n      <td>27</td>\n      <td>25</td>\n      <td>40</td>\n      <td>60</td>\n      <td>55</td>\n    </tr>\n    <tr>\n      <th>13</th>\n      <td>Immigrants</td>\n      <td>Foreigners</td>\n      <td>Bahrain</td>\n      <td>935</td>\n      <td>Asia</td>\n      <td>922</td>\n      <td>Western Asia</td>\n      <td>902</td>\n      <td>Developing regions</td>\n      <td>0</td>\n      <td>...</td>\n      <td>12</td>\n      <td>12</td>\n      <td>12</td>\n      <td>22</td>\n      <td>9</td>\n      <td>35</td>\n      <td>28</td>\n      <td>21</td>\n      <td>39</td>\n      <td>32</td>\n    </tr>\n    <tr>\n      <th>14</th>\n      <td>Immigrants</td>\n      <td>Foreigners</td>\n      <td>Bangladesh</td>\n      <td>935</td>\n      <td>Asia</td>\n      <td>5501</td>\n      <td>Southern Asia</td>\n      <td>902</td>\n      <td>Developing regions</td>\n      <td>83</td>\n      <td>...</td>\n      <td>2660</td>\n      <td>4171</td>\n      <td>4014</td>\n      <td>2897</td>\n      <td>2939</td>\n      <td>2104</td>\n      <td>4721</td>\n      <td>2694</td>\n      <td>2640</td>\n      <td>3789</td>\n    </tr>\n    <tr>\n      <th>15</th>\n      <td>Immigrants</td>\n      <td>Foreigners</td>\n      <td>Barbados</td>\n      <td>904</td>\n      <td>Latin America and the Caribbean</td>\n      <td>915</td>\n      <td>Caribbean</td>\n      <td>902</td>\n      <td>Developing regions</td>\n      <td>372</td>\n      <td>...</td>\n      <td>90</td>\n      <td>111</td>\n      <td>97</td>\n      <td>130</td>\n      <td>134</td>\n      <td>125</td>\n      <td>121</td>\n      <td>97</td>\n      <td>132</td>\n      <td>97</td>\n    </tr>\n    <tr>\n      <th>16</th>\n      <td>Immigrants</td>\n      <td>Foreigners</td>\n      <td>Belarus</td>\n      <td>908</td>\n      <td>Europe</td>\n      <td>923</td>\n      <td>Eastern Europe</td>\n      <td>901</td>\n      <td>Developed regions</td>\n      <td>0</td>\n      <td>...</td>\n      <td>543</td>\n      <td>558</td>\n      <td>439</td>\n      <td>568</td>\n      <td>524</td>\n      <td>454</td>\n      <td>438</td>\n      <td>357</td>\n      <td>277</td>\n      <td>247</td>\n    </tr>\n    <tr>\n      <th>17</th>\n      <td>Immigrants</td>\n      <td>Foreigners</td>\n      <td>Belgium</td>\n      <td>908</td>\n      <td>Europe</td>\n      <td>926</td>\n      <td>Western Europe</td>\n      <td>901</td>\n      <td>Developed regions</td>\n      <td>511</td>\n      <td>...</td>\n      <td>411</td>\n      <td>400</td>\n      <td>302</td>\n      <td>363</td>\n      <td>335</td>\n      <td>358</td>\n      <td>363</td>\n      <td>332</td>\n      <td>402</td>\n      <td>379</td>\n    </tr>\n    <tr>\n      <th>18</th>\n      <td>Immigrants</td>\n      <td>Foreigners</td>\n      <td>Belize</td>\n      <td>904</td>\n      <td>Latin America and the Caribbean</td>\n      <td>916</td>\n      <td>Central America</td>\n      <td>902</td>\n      <td>Developing regions</td>\n      <td>16</td>\n      <td>...</td>\n      <td>25</td>\n      <td>37</td>\n      <td>24</td>\n      <td>28</td>\n      <td>48</td>\n      <td>38</td>\n      <td>39</td>\n      <td>36</td>\n      <td>34</td>\n      <td>53</td>\n    </tr>\n    <tr>\n      <th>19</th>\n      <td>Immigrants</td>\n      <td>Foreigners</td>\n      <td>Benin</td>\n      <td>903</td>\n      <td>Africa</td>\n      <td>914</td>\n      <td>Western Africa</td>\n      <td>902</td>\n      <td>Developing regions</td>\n      <td>2</td>\n      <td>...</td>\n      <td>112</td>\n      <td>95</td>\n      <td>116</td>\n      <td>183</td>\n      <td>205</td>\n      <td>238</td>\n      <td>290</td>\n      <td>284</td>\n      <td>391</td>\n      <td>397</td>\n    </tr>\n    <tr>\n      <th>20</th>\n      <td>Immigrants</td>\n      <td>Foreigners</td>\n      <td>Bhutan</td>\n      <td>935</td>\n      <td>Asia</td>\n      <td>5501</td>\n      <td>Southern Asia</td>\n      <td>902</td>\n      <td>Developing regions</td>\n      <td>0</td>\n      <td>...</td>\n      <td>1</td>\n      <td>5</td>\n      <td>10</td>\n      <td>7</td>\n      <td>36</td>\n      <td>865</td>\n      <td>1464</td>\n      <td>1879</td>\n      <td>1075</td>\n      <td>487</td>\n    </tr>\n    <tr>\n      <th>21</th>\n      <td>Immigrants</td>\n      <td>Foreigners</td>\n      <td>Bolivia (Plurinational State of)</td>\n      <td>904</td>\n      <td>Latin America and the Caribbean</td>\n      <td>931</td>\n      <td>South America</td>\n      <td>902</td>\n      <td>Developing regions</td>\n      <td>44</td>\n      <td>...</td>\n      <td>85</td>\n      <td>134</td>\n      <td>139</td>\n      <td>107</td>\n      <td>143</td>\n      <td>214</td>\n      <td>180</td>\n      <td>86</td>\n      <td>83</td>\n      <td>107</td>\n    </tr>\n    <tr>\n      <th>22</th>\n      <td>Immigrants</td>\n      <td>Foreigners</td>\n      <td>Bosnia and Herzegovina</td>\n      <td>908</td>\n      <td>Europe</td>\n      <td>925</td>\n      <td>Southern Europe</td>\n      <td>901</td>\n      <td>Developed regions</td>\n      <td>0</td>\n      <td>...</td>\n      <td>188</td>\n      <td>211</td>\n      <td>217</td>\n      <td>209</td>\n      <td>182</td>\n      <td>156</td>\n      <td>168</td>\n      <td>140</td>\n      <td>121</td>\n      <td>119</td>\n    </tr>\n    <tr>\n      <th>23</th>\n      <td>Immigrants</td>\n      <td>Foreigners</td>\n      <td>Botswana</td>\n      <td>903</td>\n      <td>Africa</td>\n      <td>913</td>\n      <td>Southern Africa</td>\n      <td>902</td>\n      <td>Developing regions</td>\n      <td>10</td>\n      <td>...</td>\n      <td>9</td>\n      <td>7</td>\n      <td>11</td>\n      <td>8</td>\n      <td>28</td>\n      <td>15</td>\n      <td>42</td>\n      <td>53</td>\n      <td>64</td>\n      <td>76</td>\n    </tr>\n    <tr>\n      <th>24</th>\n      <td>Immigrants</td>\n      <td>Foreigners</td>\n      <td>Brazil</td>\n      <td>904</td>\n      <td>Latin America and the Caribbean</td>\n      <td>931</td>\n      <td>South America</td>\n      <td>902</td>\n      <td>Developing regions</td>\n      <td>211</td>\n      <td>...</td>\n      <td>917</td>\n      <td>969</td>\n      <td>1181</td>\n      <td>1746</td>\n      <td>2138</td>\n      <td>2509</td>\n      <td>2598</td>\n      <td>1508</td>\n      <td>1642</td>\n      <td>1714</td>\n    </tr>\n    <tr>\n      <th>25</th>\n      <td>Immigrants</td>\n      <td>Foreigners</td>\n      <td>Brunei Darussalam</td>\n      <td>935</td>\n      <td>Asia</td>\n      <td>920</td>\n      <td>South-Eastern Asia</td>\n      <td>902</td>\n      <td>Developing regions</td>\n      <td>79</td>\n      <td>...</td>\n      <td>3</td>\n      <td>4</td>\n      <td>5</td>\n      <td>11</td>\n      <td>10</td>\n      <td>5</td>\n      <td>12</td>\n      <td>6</td>\n      <td>3</td>\n      <td>6</td>\n    </tr>\n    <tr>\n      <th>26</th>\n      <td>Immigrants</td>\n      <td>Foreigners</td>\n      <td>Bulgaria</td>\n      <td>908</td>\n      <td>Europe</td>\n      <td>923</td>\n      <td>Eastern Europe</td>\n      <td>901</td>\n      <td>Developed regions</td>\n      <td>24</td>\n      <td>...</td>\n      <td>2022</td>\n      <td>1738</td>\n      <td>1419</td>\n      <td>1172</td>\n      <td>994</td>\n      <td>784</td>\n      <td>556</td>\n      <td>365</td>\n      <td>451</td>\n      <td>512</td>\n    </tr>\n    <tr>\n      <th>27</th>\n      <td>Immigrants</td>\n      <td>Foreigners</td>\n      <td>Burkina Faso</td>\n      <td>903</td>\n      <td>Africa</td>\n      <td>914</td>\n      <td>Western Africa</td>\n      <td>902</td>\n      <td>Developing regions</td>\n      <td>2</td>\n      <td>...</td>\n      <td>97</td>\n      <td>91</td>\n      <td>147</td>\n      <td>136</td>\n      <td>139</td>\n      <td>162</td>\n      <td>186</td>\n      <td>144</td>\n      <td>269</td>\n      <td>322</td>\n    </tr>\n    <tr>\n      <th>28</th>\n      <td>Immigrants</td>\n      <td>Foreigners</td>\n      <td>Burundi</td>\n      <td>903</td>\n      <td>Africa</td>\n      <td>910</td>\n      <td>Eastern Africa</td>\n      <td>902</td>\n      <td>Developing regions</td>\n      <td>0</td>\n      <td>...</td>\n      <td>559</td>\n      <td>626</td>\n      <td>468</td>\n      <td>614</td>\n      <td>448</td>\n      <td>566</td>\n      <td>529</td>\n      <td>604</td>\n      <td>684</td>\n      <td>480</td>\n    </tr>\n    <tr>\n      <th>29</th>\n      <td>Immigrants</td>\n      <td>Foreigners</td>\n      <td>Cabo Verde</td>\n      <td>903</td>\n      <td>Africa</td>\n      <td>914</td>\n      <td>Western Africa</td>\n      <td>902</td>\n      <td>Developing regions</td>\n      <td>1</td>\n      <td>...</td>\n      <td>3</td>\n      <td>5</td>\n      <td>7</td>\n      <td>2</td>\n      <td>5</td>\n      <td>1</td>\n      <td>3</td>\n      <td>3</td>\n      <td>6</td>\n      <td>2</td>\n    </tr>\n    <tr>\n      <th>30</th>\n      <td>Immigrants</td>\n      <td>Foreigners</td>\n      <td>Cambodia</td>\n      <td>935</td>\n      <td>Asia</td>\n      <td>920</td>\n      <td>South-Eastern Asia</td>\n      <td>902</td>\n      <td>Developing regions</td>\n      <td>12</td>\n      <td>...</td>\n      <td>348</td>\n      <td>370</td>\n      <td>529</td>\n      <td>460</td>\n      <td>354</td>\n      <td>203</td>\n      <td>200</td>\n      <td>196</td>\n      <td>233</td>\n      <td>288</td>\n    </tr>\n    <tr>\n      <th>31</th>\n      <td>Immigrants</td>\n      <td>Foreigners</td>\n      <td>Cameroon</td>\n      <td>903</td>\n      <td>Africa</td>\n      <td>911</td>\n      <td>Middle Africa</td>\n      <td>902</td>\n      <td>Developing regions</td>\n      <td>9</td>\n      <td>...</td>\n      <td>436</td>\n      <td>604</td>\n      <td>697</td>\n      <td>1025</td>\n      <td>1279</td>\n      <td>1344</td>\n      <td>1800</td>\n      <td>1638</td>\n      <td>2507</td>\n      <td>2439</td>\n    </tr>\n    <tr>\n      <th>32</th>\n      <td>Immigrants</td>\n      <td>Citizens</td>\n      <td>Canada</td>\n      <td>905</td>\n      <td>Northern America</td>\n      <td>905</td>\n      <td>Northern America</td>\n      <td>901</td>\n      <td>Developed regions</td>\n      <td>0</td>\n      <td>...</td>\n      <td>0</td>\n      <td>0</td>\n      <td>0</td>\n      <td>0</td>\n      <td>0</td>\n      <td>0</td>\n      <td>0</td>\n      <td>1</td>\n      <td>1</td>\n      <td>2</td>\n    </tr>\n    <tr>\n      <th>33</th>\n      <td>Immigrants</td>\n      <td>Foreigners</td>\n      <td>Central African Republic</td>\n      <td>903</td>\n      <td>Africa</td>\n      <td>911</td>\n      <td>Middle Africa</td>\n      <td>902</td>\n      <td>Developing regions</td>\n      <td>4</td>\n      <td>...</td>\n      <td>13</td>\n      <td>49</td>\n      <td>18</td>\n      <td>30</td>\n      <td>28</td>\n      <td>19</td>\n      <td>26</td>\n      <td>18</td>\n      <td>45</td>\n      <td>169</td>\n    </tr>\n    <tr>\n      <th>34</th>\n      <td>Immigrants</td>\n      <td>Foreigners</td>\n      <td>Chad</td>\n      <td>903</td>\n      <td>Africa</td>\n      <td>911</td>\n      <td>Middle Africa</td>\n      <td>902</td>\n      <td>Developing regions</td>\n      <td>0</td>\n      <td>...</td>\n      <td>92</td>\n      <td>126</td>\n      <td>96</td>\n      <td>131</td>\n      <td>95</td>\n      <td>87</td>\n      <td>98</td>\n      <td>79</td>\n      <td>97</td>\n      <td>86</td>\n    </tr>\n    <tr>\n      <th>35</th>\n      <td>Immigrants</td>\n      <td>Foreigners</td>\n      <td>Chile</td>\n      <td>904</td>\n      <td>Latin America and the Caribbean</td>\n      <td>931</td>\n      <td>South America</td>\n      <td>902</td>\n      <td>Developing regions</td>\n      <td>1233</td>\n      <td>...</td>\n      <td>383</td>\n      <td>384</td>\n      <td>427</td>\n      <td>530</td>\n      <td>350</td>\n      <td>375</td>\n      <td>340</td>\n      <td>174</td>\n      <td>291</td>\n      <td>273</td>\n    </tr>\n    <tr>\n      <th>36</th>\n      <td>Immigrants</td>\n      <td>Foreigners</td>\n      <td>China</td>\n      <td>935</td>\n      <td>Asia</td>\n      <td>906</td>\n      <td>Eastern Asia</td>\n      <td>902</td>\n      <td>Developing regions</td>\n      <td>5123</td>\n      <td>...</td>\n      <td>36619</td>\n      <td>42584</td>\n      <td>33518</td>\n      <td>27642</td>\n      <td>30037</td>\n      <td>29622</td>\n      <td>30391</td>\n      <td>28502</td>\n      <td>33024</td>\n      <td>34129</td>\n    </tr>\n    <tr>\n      <th>37</th>\n      <td>Immigrants</td>\n      <td>Foreigners</td>\n      <td>China, Hong Kong Special Administrative Region</td>\n      <td>935</td>\n      <td>Asia</td>\n      <td>906</td>\n      <td>Eastern Asia</td>\n      <td>902</td>\n      <td>Developing regions</td>\n      <td>0</td>\n      <td>...</td>\n      <td>536</td>\n      <td>729</td>\n      <td>712</td>\n      <td>674</td>\n      <td>897</td>\n      <td>657</td>\n      <td>623</td>\n      <td>591</td>\n      <td>728</td>\n      <td>774</td>\n    </tr>\n    <tr>\n      <th>38</th>\n      <td>Immigrants</td>\n      <td>Foreigners</td>\n      <td>China, Macao Special Administrative Region</td>\n      <td>935</td>\n      <td>Asia</td>\n      <td>906</td>\n      <td>Eastern Asia</td>\n      <td>902</td>\n      <td>Developing regions</td>\n      <td>0</td>\n      <td>...</td>\n      <td>21</td>\n      <td>21</td>\n      <td>32</td>\n      <td>16</td>\n      <td>12</td>\n      <td>21</td>\n      <td>21</td>\n      <td>13</td>\n      <td>33</td>\n      <td>29</td>\n    </tr>\n    <tr>\n      <th>39</th>\n      <td>Immigrants</td>\n      <td>Foreigners</td>\n      <td>Colombia</td>\n      <td>904</td>\n      <td>Latin America and the Caribbean</td>\n      <td>931</td>\n      <td>South America</td>\n      <td>902</td>\n      <td>Developing regions</td>\n      <td>266</td>\n      <td>...</td>\n      <td>4566</td>\n      <td>6424</td>\n      <td>6535</td>\n      <td>5357</td>\n      <td>5452</td>\n      <td>4652</td>\n      <td>5218</td>\n      <td>4366</td>\n      <td>3741</td>\n      <td>3631</td>\n    </tr>\n    <tr>\n      <th>40</th>\n      <td>Immigrants</td>\n      <td>Foreigners</td>\n      <td>Comoros</td>\n      <td>903</td>\n      <td>Africa</td>\n      <td>910</td>\n      <td>Eastern Africa</td>\n      <td>902</td>\n      <td>Developing regions</td>\n      <td>0</td>\n      <td>...</td>\n      <td>6</td>\n      <td>5</td>\n      <td>7</td>\n      <td>11</td>\n      <td>3</td>\n      <td>19</td>\n      <td>22</td>\n      <td>14</td>\n      <td>18</td>\n      <td>22</td>\n    </tr>\n    <tr>\n      <th>41</th>\n      <td>Immigrants</td>\n      <td>Foreigners</td>\n      <td>Congo</td>\n      <td>903</td>\n      <td>Africa</td>\n      <td>911</td>\n      <td>Middle Africa</td>\n      <td>902</td>\n      <td>Developing regions</td>\n      <td>2</td>\n      <td>...</td>\n      <td>142</td>\n      <td>136</td>\n      <td>143</td>\n      <td>87</td>\n      <td>72</td>\n      <td>70</td>\n      <td>75</td>\n      <td>81</td>\n      <td>91</td>\n      <td>114</td>\n    </tr>\n    <tr>\n      <th>42</th>\n      <td>Immigrants</td>\n      <td>Foreigners</td>\n      <td>Costa Rica</td>\n      <td>904</td>\n      <td>Latin America and the Caribbean</td>\n      <td>916</td>\n      <td>Central America</td>\n      <td>902</td>\n      <td>Developing regions</td>\n      <td>28</td>\n      <td>...</td>\n      <td>165</td>\n      <td>188</td>\n      <td>279</td>\n      <td>281</td>\n      <td>246</td>\n      <td>217</td>\n      <td>190</td>\n      <td>149</td>\n      <td>183</td>\n      <td>122</td>\n    </tr>\n    <tr>\n      <th>43</th>\n      <td>Immigrants</td>\n      <td>Foreigners</td>\n      <td>Côte d'Ivoire</td>\n      <td>903</td>\n      <td>Africa</td>\n      <td>914</td>\n      <td>Western Africa</td>\n      <td>902</td>\n      <td>Developing regions</td>\n      <td>14</td>\n      <td>...</td>\n      <td>256</td>\n      <td>294</td>\n      <td>431</td>\n      <td>619</td>\n      <td>646</td>\n      <td>668</td>\n      <td>1066</td>\n      <td>636</td>\n      <td>1024</td>\n      <td>1170</td>\n    </tr>\n    <tr>\n      <th>44</th>\n      <td>Immigrants</td>\n      <td>Foreigners</td>\n      <td>Croatia</td>\n      <td>908</td>\n      <td>Europe</td>\n      <td>925</td>\n      <td>Southern Europe</td>\n      <td>901</td>\n      <td>Developed regions</td>\n      <td>0</td>\n      <td>...</td>\n      <td>151</td>\n      <td>128</td>\n      <td>102</td>\n      <td>102</td>\n      <td>131</td>\n      <td>92</td>\n      <td>91</td>\n      <td>135</td>\n      <td>112</td>\n      <td>125</td>\n    </tr>\n    <tr>\n      <th>45</th>\n      <td>Immigrants</td>\n      <td>Foreigners</td>\n      <td>Cuba</td>\n      <td>904</td>\n      <td>Latin America and the Caribbean</td>\n      <td>915</td>\n      <td>Caribbean</td>\n      <td>902</td>\n      <td>Developing regions</td>\n      <td>306</td>\n      <td>...</td>\n      <td>866</td>\n      <td>999</td>\n      <td>1064</td>\n      <td>1350</td>\n      <td>1300</td>\n      <td>1433</td>\n      <td>961</td>\n      <td>962</td>\n      <td>1304</td>\n      <td>1402</td>\n    </tr>\n    <tr>\n      <th>46</th>\n      <td>Immigrants</td>\n      <td>Foreigners</td>\n      <td>Cyprus</td>\n      <td>935</td>\n      <td>Asia</td>\n      <td>922</td>\n      <td>Western Asia</td>\n      <td>902</td>\n      <td>Developing regions</td>\n      <td>132</td>\n      <td>...</td>\n      <td>11</td>\n      <td>7</td>\n      <td>9</td>\n      <td>4</td>\n      <td>7</td>\n      <td>6</td>\n      <td>18</td>\n      <td>6</td>\n      <td>12</td>\n      <td>16</td>\n    </tr>\n    <tr>\n      <th>47</th>\n      <td>Immigrants</td>\n      <td>Foreigners</td>\n      <td>Czech Republic</td>\n      <td>908</td>\n      <td>Europe</td>\n      <td>923</td>\n      <td>Eastern Europe</td>\n      <td>901</td>\n      <td>Developed regions</td>\n      <td>0</td>\n      <td>...</td>\n      <td>191</td>\n      <td>193</td>\n      <td>146</td>\n      <td>137</td>\n      <td>104</td>\n      <td>159</td>\n      <td>168</td>\n      <td>128</td>\n      <td>173</td>\n      <td>174</td>\n    </tr>\n    <tr>\n      <th>48</th>\n      <td>Immigrants</td>\n      <td>Foreigners</td>\n      <td>Democratic People's Republic of Korea</td>\n      <td>935</td>\n      <td>Asia</td>\n      <td>906</td>\n      <td>Eastern Asia</td>\n      <td>902</td>\n      <td>Developing regions</td>\n      <td>1</td>\n      <td>...</td>\n      <td>15</td>\n      <td>14</td>\n      <td>10</td>\n      <td>7</td>\n      <td>19</td>\n      <td>11</td>\n      <td>45</td>\n      <td>97</td>\n      <td>66</td>\n      <td>17</td>\n    </tr>\n    <tr>\n      <th>49</th>\n      <td>Immigrants</td>\n      <td>Foreigners</td>\n      <td>Democratic Republic of the Congo</td>\n      <td>903</td>\n      <td>Africa</td>\n      <td>911</td>\n      <td>Middle Africa</td>\n      <td>902</td>\n      <td>Developing regions</td>\n      <td>15</td>\n      <td>...</td>\n      <td>1465</td>\n      <td>1521</td>\n      <td>1623</td>\n      <td>1466</td>\n      <td>1397</td>\n      <td>1581</td>\n      <td>1239</td>\n      <td>1224</td>\n      <td>1714</td>\n      <td>2050</td>\n    </tr>\n  </tbody>\n</table>\n<p>48 rows × 43 columns</p>\n</div>"
     },
     "metadata": {},
     "execution_count": 52
    }
   ],
   "source": [
    "df.iloc[:50]"
   ]
  },
  {
   "cell_type": "code",
   "execution_count": 56,
   "metadata": {},
   "outputs": [
    {
     "output_type": "execute_result",
     "data": {
      "text/plain": [
       "             OdName  2010  2011\n",
       "0       Afghanistan  1758  2203\n",
       "1           Albania   561   539\n",
       "2           Algeria  4752  4325\n",
       "3    American Samoa     0     0\n",
       "4           Andorra     0     0\n",
       "..              ...   ...   ...\n",
       "190        Viet Nam  1942  1723\n",
       "191  Western Sahara     0     0\n",
       "192           Yemen   211   160\n",
       "193          Zambia   102    69\n",
       "194        Zimbabwe   494   434\n",
       "\n",
       "[195 rows x 3 columns]"
      ],
      "text/html": "<div>\n<style scoped>\n    .dataframe tbody tr th:only-of-type {\n        vertical-align: middle;\n    }\n\n    .dataframe tbody tr th {\n        vertical-align: top;\n    }\n\n    .dataframe thead th {\n        text-align: right;\n    }\n</style>\n<table border=\"1\" class=\"dataframe\">\n  <thead>\n    <tr style=\"text-align: right;\">\n      <th></th>\n      <th>OdName</th>\n      <th>2010</th>\n      <th>2011</th>\n    </tr>\n  </thead>\n  <tbody>\n    <tr>\n      <th>0</th>\n      <td>Afghanistan</td>\n      <td>1758</td>\n      <td>2203</td>\n    </tr>\n    <tr>\n      <th>1</th>\n      <td>Albania</td>\n      <td>561</td>\n      <td>539</td>\n    </tr>\n    <tr>\n      <th>2</th>\n      <td>Algeria</td>\n      <td>4752</td>\n      <td>4325</td>\n    </tr>\n    <tr>\n      <th>3</th>\n      <td>American Samoa</td>\n      <td>0</td>\n      <td>0</td>\n    </tr>\n    <tr>\n      <th>4</th>\n      <td>Andorra</td>\n      <td>0</td>\n      <td>0</td>\n    </tr>\n    <tr>\n      <th>...</th>\n      <td>...</td>\n      <td>...</td>\n      <td>...</td>\n    </tr>\n    <tr>\n      <th>190</th>\n      <td>Viet Nam</td>\n      <td>1942</td>\n      <td>1723</td>\n    </tr>\n    <tr>\n      <th>191</th>\n      <td>Western Sahara</td>\n      <td>0</td>\n      <td>0</td>\n    </tr>\n    <tr>\n      <th>192</th>\n      <td>Yemen</td>\n      <td>211</td>\n      <td>160</td>\n    </tr>\n    <tr>\n      <th>193</th>\n      <td>Zambia</td>\n      <td>102</td>\n      <td>69</td>\n    </tr>\n    <tr>\n      <th>194</th>\n      <td>Zimbabwe</td>\n      <td>494</td>\n      <td>434</td>\n    </tr>\n  </tbody>\n</table>\n<p>195 rows × 3 columns</p>\n</div>"
     },
     "metadata": {},
     "execution_count": 56
    }
   ],
   "source": [
    "df[['OdName', 2010, 2011]]"
   ]
  },
  {
   "cell_type": "code",
   "execution_count": 60,
   "metadata": {},
   "outputs": [
    {
     "output_type": "execute_result",
     "data": {
      "text/plain": [
       "        OdName  2010  2011\n",
       "10     Austria   124    84\n",
       "11  Azerbaijan   209   138\n",
       "12     Bahamas    25    40\n",
       "13     Bahrain    28    21\n",
       "14  Bangladesh  4721  2694\n",
       "15    Barbados   121    97\n",
       "16     Belarus   438   357\n",
       "17     Belgium   363   332\n",
       "18      Belize    39    36\n",
       "19       Benin   290   284"
      ],
      "text/html": "<div>\n<style scoped>\n    .dataframe tbody tr th:only-of-type {\n        vertical-align: middle;\n    }\n\n    .dataframe tbody tr th {\n        vertical-align: top;\n    }\n\n    .dataframe thead th {\n        text-align: right;\n    }\n</style>\n<table border=\"1\" class=\"dataframe\">\n  <thead>\n    <tr style=\"text-align: right;\">\n      <th></th>\n      <th>OdName</th>\n      <th>2010</th>\n      <th>2011</th>\n    </tr>\n  </thead>\n  <tbody>\n    <tr>\n      <th>10</th>\n      <td>Austria</td>\n      <td>124</td>\n      <td>84</td>\n    </tr>\n    <tr>\n      <th>11</th>\n      <td>Azerbaijan</td>\n      <td>209</td>\n      <td>138</td>\n    </tr>\n    <tr>\n      <th>12</th>\n      <td>Bahamas</td>\n      <td>25</td>\n      <td>40</td>\n    </tr>\n    <tr>\n      <th>13</th>\n      <td>Bahrain</td>\n      <td>28</td>\n      <td>21</td>\n    </tr>\n    <tr>\n      <th>14</th>\n      <td>Bangladesh</td>\n      <td>4721</td>\n      <td>2694</td>\n    </tr>\n    <tr>\n      <th>15</th>\n      <td>Barbados</td>\n      <td>121</td>\n      <td>97</td>\n    </tr>\n    <tr>\n      <th>16</th>\n      <td>Belarus</td>\n      <td>438</td>\n      <td>357</td>\n    </tr>\n    <tr>\n      <th>17</th>\n      <td>Belgium</td>\n      <td>363</td>\n      <td>332</td>\n    </tr>\n    <tr>\n      <th>18</th>\n      <td>Belize</td>\n      <td>39</td>\n      <td>36</td>\n    </tr>\n    <tr>\n      <th>19</th>\n      <td>Benin</td>\n      <td>290</td>\n      <td>284</td>\n    </tr>\n  </tbody>\n</table>\n</div>"
     },
     "metadata": {},
     "execution_count": 60
    }
   ],
   "source": [
    "df[['OdName', 2010, 2011]].iloc[10 : 20]"
   ]
  },
  {
   "cell_type": "code",
   "execution_count": 61,
   "metadata": {},
   "outputs": [
    {
     "output_type": "execute_result",
     "data": {
      "text/plain": [
       "          Type    Coverage OdName  AREA AreaName   REG        RegName  DEV  \\\n",
       "79  Immigrants  Foreigners  India   935     Asia  5501  Southern Asia  902   \n",
       "\n",
       "               DevName  1980  ...   2004   2005   2006   2007   2008   2009  \\\n",
       "79  Developing regions  8880  ...  28235  36210  33848  28742  28261  29456   \n",
       "\n",
       "     2010   2011   2012   2013  \n",
       "79  34235  27509  30933  33087  \n",
       "\n",
       "[1 rows x 43 columns]"
      ],
      "text/html": "<div>\n<style scoped>\n    .dataframe tbody tr th:only-of-type {\n        vertical-align: middle;\n    }\n\n    .dataframe tbody tr th {\n        vertical-align: top;\n    }\n\n    .dataframe thead th {\n        text-align: right;\n    }\n</style>\n<table border=\"1\" class=\"dataframe\">\n  <thead>\n    <tr style=\"text-align: right;\">\n      <th></th>\n      <th>Type</th>\n      <th>Coverage</th>\n      <th>OdName</th>\n      <th>AREA</th>\n      <th>AreaName</th>\n      <th>REG</th>\n      <th>RegName</th>\n      <th>DEV</th>\n      <th>DevName</th>\n      <th>1980</th>\n      <th>...</th>\n      <th>2004</th>\n      <th>2005</th>\n      <th>2006</th>\n      <th>2007</th>\n      <th>2008</th>\n      <th>2009</th>\n      <th>2010</th>\n      <th>2011</th>\n      <th>2012</th>\n      <th>2013</th>\n    </tr>\n  </thead>\n  <tbody>\n    <tr>\n      <th>79</th>\n      <td>Immigrants</td>\n      <td>Foreigners</td>\n      <td>India</td>\n      <td>935</td>\n      <td>Asia</td>\n      <td>5501</td>\n      <td>Southern Asia</td>\n      <td>902</td>\n      <td>Developing regions</td>\n      <td>8880</td>\n      <td>...</td>\n      <td>28235</td>\n      <td>36210</td>\n      <td>33848</td>\n      <td>28742</td>\n      <td>28261</td>\n      <td>29456</td>\n      <td>34235</td>\n      <td>27509</td>\n      <td>30933</td>\n      <td>33087</td>\n    </tr>\n  </tbody>\n</table>\n<p>1 rows × 43 columns</p>\n</div>"
     },
     "metadata": {},
     "execution_count": 61
    }
   ],
   "source": [
    "df[df['OdName'] == 'India']"
   ]
  },
  {
   "cell_type": "code",
   "execution_count": 63,
   "metadata": {},
   "outputs": [
    {
     "output_type": "execute_result",
     "data": {
      "text/plain": [
       "Type                Immigrants\n",
       "Coverage            Foreigners\n",
       "OdName                   India\n",
       "AREA                       935\n",
       "AreaName                  Asia\n",
       "REG                       5501\n",
       "RegName          Southern Asia\n",
       "DEV                        902\n",
       "DevName     Developing regions\n",
       "1980                      8880\n",
       "1981                      8670\n",
       "1982                      8147\n",
       "1983                      7338\n",
       "1984                      5704\n",
       "1985                      4211\n",
       "1986                      7150\n",
       "1987                     10189\n",
       "1988                     11522\n",
       "1989                     10343\n",
       "1990                     12041\n",
       "1991                     13734\n",
       "1992                     13673\n",
       "1993                     21496\n",
       "1994                     18620\n",
       "1995                     18489\n",
       "1996                     23859\n",
       "1997                     22268\n",
       "1998                     17241\n",
       "1999                     18974\n",
       "2000                     28572\n",
       "2001                     31223\n",
       "2002                     31889\n",
       "2003                     27155\n",
       "2004                     28235\n",
       "2005                     36210\n",
       "2006                     33848\n",
       "2007                     28742\n",
       "2008                     28261\n",
       "2009                     29456\n",
       "2010                     34235\n",
       "2011                     27509\n",
       "2012                     30933\n",
       "2013                     33087\n",
       "Name: 79, dtype: object"
      ]
     },
     "metadata": {},
     "execution_count": 63
    }
   ],
   "source": [
    "df.iloc[79]"
   ]
  },
  {
   "cell_type": "code",
   "execution_count": null,
   "metadata": {},
   "outputs": [],
   "source": []
  }
 ]
}