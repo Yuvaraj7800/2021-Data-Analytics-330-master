{
 "metadata": {
  "language_info": {
   "codemirror_mode": {
    "name": "ipython",
    "version": 3
   },
   "file_extension": ".py",
   "mimetype": "text/x-python",
   "name": "python",
   "nbconvert_exporter": "python",
   "pygments_lexer": "ipython3",
   "version": "3.7.3-final"
  },
  "orig_nbformat": 2,
  "kernelspec": {
   "name": "python3",
   "display_name": "Python 3",
   "language": "python"
  }
 },
 "nbformat": 4,
 "nbformat_minor": 2,
 "cells": [
  {
   "cell_type": "code",
   "execution_count": 1,
   "metadata": {},
   "outputs": [],
   "source": [
    "movie = \"Prestige\""
   ]
  },
  {
   "cell_type": "code",
   "execution_count": 4,
   "metadata": {},
   "outputs": [
    {
     "output_type": "stream",
     "name": "stdout",
     "text": [
      "loop running\nloop running\nloop running\nloop running\nloop running\nloop running\nloop running\nloop running\n"
     ]
    }
   ],
   "source": [
    "for i in movie:\n",
    "    print(i)\n",
    "    print('loop running')"
   ]
  },
  {
   "cell_type": "code",
   "execution_count": 6,
   "metadata": {},
   "outputs": [
    {
     "output_type": "stream",
     "name": "stdout",
     "text": [
      "hello\n0\nhello\n1\nhello\n2\nhello\n3\nhello\n4\nhello\n5\nhello\n6\nhello\n7\nhello\n8\nhello\n9\n"
     ]
    }
   ],
   "source": [
    "for i in range(10):\n",
    "    print('hello')\n",
    "    print(i)"
   ]
  },
  {
   "cell_type": "code",
   "execution_count": 11,
   "metadata": {},
   "outputs": [
    {
     "output_type": "stream",
     "name": "stdout",
     "text": [
      "hello\n2\nhello\n4\nhello\n6\nhello\n8\nhello\n10\nhello\n12\nhello\n14\n"
     ]
    }
   ],
   "source": [
    "for i in range(2, 15, 2):\n",
    "    print('hello')\n",
    "    print(i)"
   ]
  },
  {
   "cell_type": "code",
   "execution_count": 1,
   "metadata": {},
   "outputs": [],
   "source": [
    "s = 'Hello'"
   ]
  },
  {
   "cell_type": "code",
   "execution_count": 6,
   "metadata": {},
   "outputs": [
    {
     "output_type": "execute_result",
     "data": {
      "text/plain": [
       "'olleH'"
      ]
     },
     "metadata": {},
     "execution_count": 6
    }
   ],
   "source": [
    "s[::-1]"
   ]
  },
  {
   "cell_type": "code",
   "execution_count": 13,
   "metadata": {},
   "outputs": [
    {
     "output_type": "stream",
     "name": "stdout",
     "text": [
      "                   *\n                  **\n                 ***\n                ****\n               *****\n              ******\n             *******\n            ********\n           *********\n          **********\n         ***********\n        ************\n       *************\n      **************\n     ***************\n    ****************\n   *****************\n  ******************\n *******************\n"
     ]
    }
   ],
   "source": [
    "for i in range(1, 20):\n",
    "    print(('*'*i).rjust(20))"
   ]
  },
  {
   "cell_type": "code",
   "execution_count": 14,
   "metadata": {},
   "outputs": [],
   "source": [
    "name = \"Mr. India\""
   ]
  },
  {
   "cell_type": "code",
   "execution_count": 16,
   "metadata": {},
   "outputs": [
    {
     "output_type": "execute_result",
     "data": {
      "text/plain": [
       "'India'"
      ]
     },
     "metadata": {},
     "execution_count": 16
    }
   ],
   "source": [
    "name[4:]"
   ]
  },
  {
   "cell_type": "code",
   "execution_count": 19,
   "metadata": {},
   "outputs": [],
   "source": [
    "movies = []\n",
    "for i in range(3):\n",
    "    mo = input(\">>\")\n",
    "    movies.append(mo)"
   ]
  },
  {
   "cell_type": "code",
   "execution_count": 18,
   "metadata": {},
   "outputs": [
    {
     "output_type": "execute_result",
     "data": {
      "text/plain": [
       "['iron man', '3 idiots', 'avengers']"
      ]
     },
     "metadata": {},
     "execution_count": 18
    }
   ],
   "source": [
    "movies"
   ]
  },
  {
   "source": [
    "# While Loop\n",
    "```\n",
    "while condition:\n",
    "    state1\n",
    "    state2\n",
    "    .\n",
    "    .\n",
    "```"
   ],
   "cell_type": "markdown",
   "metadata": {}
  },
  {
   "cell_type": "code",
   "execution_count": 20,
   "metadata": {},
   "outputs": [
    {
     "output_type": "stream",
     "name": "stdout",
     "text": [
      "wrong password! Try Again\n",
      "wrong password! Try Again\n",
      "wrong password! Try Again\n",
      "welcome master\n"
     ]
    }
   ],
   "source": [
    "pwd = \"abrakadabra\"\n",
    "\n",
    "while True:\n",
    "    p = input(\"enter password\")\n",
    "    if p == pwd:\n",
    "        print('welcome master')\n",
    "        break\n",
    "    else:\n",
    "        print('wrong password! Try Again')"
   ]
  },
  {
   "cell_type": "code",
   "execution_count": 21,
   "metadata": {},
   "outputs": [
    {
     "output_type": "stream",
     "name": "stdout",
     "text": [
      "0\n1\n2\n3\n4\n5\n6\n7\n8\n9\n"
     ]
    }
   ],
   "source": [
    "for i in range(10):\n",
    "    print(i)"
   ]
  },
  {
   "cell_type": "code",
   "execution_count": 22,
   "metadata": {},
   "outputs": [
    {
     "output_type": "stream",
     "name": "stdout",
     "text": [
      "5\n6\n7\n8\n9\n"
     ]
    }
   ],
   "source": [
    "for i in range(5, 10):\n",
    "    print(i)"
   ]
  },
  {
   "cell_type": "code",
   "execution_count": 23,
   "metadata": {},
   "outputs": [
    {
     "output_type": "stream",
     "name": "stdout",
     "text": [
      "10\n12\n14\n16\n18\n"
     ]
    }
   ],
   "source": [
    "for i in range(10, 20, 2):\n",
    "    print(i)"
   ]
  },
  {
   "cell_type": "code",
   "execution_count": 24,
   "metadata": {},
   "outputs": [
    {
     "output_type": "stream",
     "name": "stdout",
     "text": [
      "30\n29\n28\n27\n26\n25\n24\n23\n22\n21\n20\n19\n18\n17\n16\n15\n14\n13\n12\n11\n"
     ]
    }
   ],
   "source": [
    "for i in range(30, 10, -1):\n",
    "    print(i)"
   ]
  },
  {
   "cell_type": "code",
   "execution_count": 28,
   "metadata": {},
   "outputs": [
    {
     "output_type": "stream",
     "name": "stdout",
     "text": [
      "\n#\n##\n###\n####\n#####\n######\n#######\n########\n#########\n"
     ]
    }
   ],
   "source": [
    "for i in range(10):\n",
    "    print(i*'#')"
   ]
  },
  {
   "cell_type": "code",
   "execution_count": 34,
   "metadata": {},
   "outputs": [
    {
     "output_type": "stream",
     "name": "stdout",
     "text": [
      "         #          \n        ###         \n       #####        \n      #######       \n     #########      \n    ###########     \n   #############    \n  ###############   \n #################  \n################### \n"
     ]
    }
   ],
   "source": [
    "for i in range(1, 20, 2):\n",
    "    print((i*'#').center(20))"
   ]
  },
  {
   "cell_type": "code",
   "execution_count": null,
   "metadata": {},
   "outputs": [],
   "source": []
  }
 ]
}